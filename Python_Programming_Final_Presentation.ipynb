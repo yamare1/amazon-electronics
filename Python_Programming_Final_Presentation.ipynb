{
  "nbformat": 4,
  "nbformat_minor": 0,
  "metadata": {
    "colab": {
      "provenance": [],
      "include_colab_link": true
    },
    "kernelspec": {
      "name": "python3",
      "display_name": "Python 3"
    },
    "language_info": {
      "name": "python"
    }
  },
  "cells": [
    {
      "cell_type": "markdown",
      "metadata": {
        "id": "view-in-github",
        "colab_type": "text"
      },
      "source": [
        "<a href=\"https://colab.research.google.com/github/yamare1/amazon-electronics/blob/main/Python_Programming_Final_Presentation.ipynb\" target=\"_parent\"><img src=\"https://colab.research.google.com/assets/colab-badge.svg\" alt=\"Open In Colab\"/></a>"
      ]
    },
    {
      "cell_type": "markdown",
      "source": [
        "# **Amazon Top 100 Electronics**\n",
        "\n",
        "**ISBA 3730 - Programming for Business Applications**\n",
        "\n",
        "Yonathan Amare, Victor Hurtado, Seamus Barrett, Rafael Salonikios\n",
        "\n",
        "\n",
        "College of Business Administration\n",
        "\n",
        "Loyola Marymount University"
      ],
      "metadata": {
        "id": "7Nk9GVvUkQiJ"
      }
    },
    {
      "cell_type": "markdown",
      "source": [
        "#**Executive Summary**\n",
        "\n",
        "This report was made to guide our client, Smart Home Systems Inc, in order to figure out which product they should sell on Amazon in order to become one of the Top 100 selling electronics. First, we had questions that we wanted to answer through analyzing the data that gave us insights into what people were pruchasing and what products were succeeding. From there we cleaned the data and began analyzing our dataset. After we finished analyzing the data we were able to conclude what type of product, what features that product should have, the price point, and how reviews impacted the Top 100 product and gave all of this information to our clients so that they could make a decision on what type of product they want to sell.\n",
        "\n"
      ],
      "metadata": {
        "id": "D8Yf6NxmlPxZ"
      }
    },
    {
      "cell_type": "markdown",
      "source": [
        "#**Introduction**"
      ],
      "metadata": {
        "id": "soPoYiXwlfBt"
      }
    },
    {
      "cell_type": "markdown",
      "source": [
        "We are four recent graduates from Loyola Marymount University who majored in Information Systems and Business Analytics. Right after graduation, the four of us started our own data analytics consulting firm, LM Consulting. One of our first clients, Smart Home Systems Inc, was a small tech start up that wanted to sell a new electronics product on Amazon. While Amazon sells the most electronics in the United States, our client wanted to know what kind products have the best chance to be successful and break into the Top 100 products.\n",
        "\n",
        "Our primary business question that we decided we must answer for our client was, \"What is the optimal product to make for Smart Home Systems Inc. to sell on Amazon, and what should the price be?\"\n",
        "\n",
        "To help our client and to answer our own main question, we wanted to answer some key supporting questions to find out what kind of product would be succesful on Amazon. We decided on some questions that would help us answer our big question. Some of these questions included, what was the most sold product? Which category was the most popular? What was the average cost? What's the most expensive and least expensive item? What ratings do these products get? and What is the minimum average rating necessary to secure a spot in the Top 100? We believe that these questions would give us valuable insights and a good understanding of what people are buying, price trends, and whether or not our client's product will succeed on Amazon.\n",
        "\n",
        "This report will highlight how we analyzed the data to come up with our findings as well as the process that went through to arrive at our conclusion."
      ],
      "metadata": {
        "id": "I6uGXa8IuoQV"
      }
    },
    {
      "cell_type": "markdown",
      "source": [
        "#**Main Content and Analysis**"
      ],
      "metadata": {
        "id": "KUwI0gM5llR9"
      }
    },
    {
      "cell_type": "markdown",
      "source": [
        "##***Methodology***"
      ],
      "metadata": {
        "id": "hegUtjuDlwX_"
      }
    },
    {
      "cell_type": "markdown",
      "source": [
        "##*IMPORTING DATA*"
      ],
      "metadata": {
        "id": "3vw6t9Il2nlY"
      }
    },
    {
      "cell_type": "markdown",
      "source": [
        "Our first step was importing the packages that we are going to use to analyze and present our data. The packages that were used to analyze our data were NumPy and Pandas and to present our findings we used Matplotlib."
      ],
      "metadata": {
        "id": "7O-V5ftv2K_Z"
      }
    },
    {
      "cell_type": "code",
      "execution_count": null,
      "metadata": {
        "id": "NpspZgE6hgwa"
      },
      "outputs": [],
      "source": [
        "import numpy as np\n",
        "import pandas as pd\n",
        "import matplotlib.pyplot as plt"
      ]
    },
    {
      "cell_type": "markdown",
      "source": [
        "The next step was to import our data set so we could begin analyzing it. We got our dataset from Kaggle.com as a CSV file. Our data shows the top 100 electronics products rankings on Amazon every day for 7 months in 2021. We realized that the NA values for the dataset are either \"Not available\" or \"No customer reviews yet\""
      ],
      "metadata": {
        "id": "CUvMrtxA2e0j"
      }
    },
    {
      "cell_type": "code",
      "source": [
        "df = pd.read_csv('AmazonTop100ElectronicsData.csv', na_values=['Not available', 'No customer reviews yet'])"
      ],
      "metadata": {
        "id": "AkJXdeWQ2pd0"
      },
      "execution_count": null,
      "outputs": []
    },
    {
      "cell_type": "code",
      "source": [
        "df"
      ],
      "metadata": {
        "colab": {
          "base_uri": "https://localhost:8080/",
          "height": 424
        },
        "id": "E36F502BinMZ",
        "outputId": "26a3a889-af50-4ea9-a207-4ba2bb2e3f3e"
      },
      "execution_count": null,
      "outputs": [
        {
          "output_type": "execute_result",
          "data": {
            "text/plain": [
              "             date  number                                               name  \\\n",
              "0      2021-02-01       1  Fire TV Stick 4K streaming device with Alexa V...   \n",
              "1      2021-02-01       2  Amazon Smart Plug, works with Alexa – A Certif...   \n",
              "2      2021-02-01       3  Echo Show 5 -- Smart display with Alexa – stay...   \n",
              "3      2021-02-01       4  All-new Echo Dot (4th Gen, 2020 release) | Sma...   \n",
              "4      2021-02-01       5  Roku Streaming Stick+ | HD/4K/HDR Streaming De...   \n",
              "...           ...     ...                                                ...   \n",
              "18095  2021-07-31      96  Tile Slim (2020) 1-pack - Slim & Sleek Bluetoo...   \n",
              "18096  2021-07-31      97  Blink Outdoor - wireless, weather-resistant HD...   \n",
              "18097  2021-07-31      98  EVISTR 16GB Digital Voice Recorder Voice Activ...   \n",
              "18098  2021-07-31      99  Echo (4th Gen) | With premium sound, smart hom...   \n",
              "18099  2021-07-31     100  2 Pack Surge Protector Power Strip with 6 Outl...   \n",
              "\n",
              "       rating n_reviews   price  \n",
              "0         4.7   512,797  $39.99  \n",
              "1         4.7   328,652  $24.99  \n",
              "2         4.6   298,030  $44.99  \n",
              "3         4.7   138,241  $44.99  \n",
              "4         4.7    62,702  $39.00  \n",
              "...       ...       ...     ...  \n",
              "18095     4.6    25,512  $28.73  \n",
              "18096     4.4    60,859  $99.99  \n",
              "18097     4.4    12,196  $39.99  \n",
              "18098     4.7    71,566  $69.99  \n",
              "18099     4.8     9,157  $30.99  \n",
              "\n",
              "[18100 rows x 6 columns]"
            ],
            "text/html": [
              "\n",
              "  <div id=\"df-9c1e4fe0-24e3-4555-91db-025a0f6f1cc6\" class=\"colab-df-container\">\n",
              "    <div>\n",
              "<style scoped>\n",
              "    .dataframe tbody tr th:only-of-type {\n",
              "        vertical-align: middle;\n",
              "    }\n",
              "\n",
              "    .dataframe tbody tr th {\n",
              "        vertical-align: top;\n",
              "    }\n",
              "\n",
              "    .dataframe thead th {\n",
              "        text-align: right;\n",
              "    }\n",
              "</style>\n",
              "<table border=\"1\" class=\"dataframe\">\n",
              "  <thead>\n",
              "    <tr style=\"text-align: right;\">\n",
              "      <th></th>\n",
              "      <th>date</th>\n",
              "      <th>number</th>\n",
              "      <th>name</th>\n",
              "      <th>rating</th>\n",
              "      <th>n_reviews</th>\n",
              "      <th>price</th>\n",
              "    </tr>\n",
              "  </thead>\n",
              "  <tbody>\n",
              "    <tr>\n",
              "      <th>0</th>\n",
              "      <td>2021-02-01</td>\n",
              "      <td>1</td>\n",
              "      <td>Fire TV Stick 4K streaming device with Alexa V...</td>\n",
              "      <td>4.7</td>\n",
              "      <td>512,797</td>\n",
              "      <td>$39.99</td>\n",
              "    </tr>\n",
              "    <tr>\n",
              "      <th>1</th>\n",
              "      <td>2021-02-01</td>\n",
              "      <td>2</td>\n",
              "      <td>Amazon Smart Plug, works with Alexa – A Certif...</td>\n",
              "      <td>4.7</td>\n",
              "      <td>328,652</td>\n",
              "      <td>$24.99</td>\n",
              "    </tr>\n",
              "    <tr>\n",
              "      <th>2</th>\n",
              "      <td>2021-02-01</td>\n",
              "      <td>3</td>\n",
              "      <td>Echo Show 5 -- Smart display with Alexa – stay...</td>\n",
              "      <td>4.6</td>\n",
              "      <td>298,030</td>\n",
              "      <td>$44.99</td>\n",
              "    </tr>\n",
              "    <tr>\n",
              "      <th>3</th>\n",
              "      <td>2021-02-01</td>\n",
              "      <td>4</td>\n",
              "      <td>All-new Echo Dot (4th Gen, 2020 release) | Sma...</td>\n",
              "      <td>4.7</td>\n",
              "      <td>138,241</td>\n",
              "      <td>$44.99</td>\n",
              "    </tr>\n",
              "    <tr>\n",
              "      <th>4</th>\n",
              "      <td>2021-02-01</td>\n",
              "      <td>5</td>\n",
              "      <td>Roku Streaming Stick+ | HD/4K/HDR Streaming De...</td>\n",
              "      <td>4.7</td>\n",
              "      <td>62,702</td>\n",
              "      <td>$39.00</td>\n",
              "    </tr>\n",
              "    <tr>\n",
              "      <th>...</th>\n",
              "      <td>...</td>\n",
              "      <td>...</td>\n",
              "      <td>...</td>\n",
              "      <td>...</td>\n",
              "      <td>...</td>\n",
              "      <td>...</td>\n",
              "    </tr>\n",
              "    <tr>\n",
              "      <th>18095</th>\n",
              "      <td>2021-07-31</td>\n",
              "      <td>96</td>\n",
              "      <td>Tile Slim (2020) 1-pack - Slim &amp; Sleek Bluetoo...</td>\n",
              "      <td>4.6</td>\n",
              "      <td>25,512</td>\n",
              "      <td>$28.73</td>\n",
              "    </tr>\n",
              "    <tr>\n",
              "      <th>18096</th>\n",
              "      <td>2021-07-31</td>\n",
              "      <td>97</td>\n",
              "      <td>Blink Outdoor - wireless, weather-resistant HD...</td>\n",
              "      <td>4.4</td>\n",
              "      <td>60,859</td>\n",
              "      <td>$99.99</td>\n",
              "    </tr>\n",
              "    <tr>\n",
              "      <th>18097</th>\n",
              "      <td>2021-07-31</td>\n",
              "      <td>98</td>\n",
              "      <td>EVISTR 16GB Digital Voice Recorder Voice Activ...</td>\n",
              "      <td>4.4</td>\n",
              "      <td>12,196</td>\n",
              "      <td>$39.99</td>\n",
              "    </tr>\n",
              "    <tr>\n",
              "      <th>18098</th>\n",
              "      <td>2021-07-31</td>\n",
              "      <td>99</td>\n",
              "      <td>Echo (4th Gen) | With premium sound, smart hom...</td>\n",
              "      <td>4.7</td>\n",
              "      <td>71,566</td>\n",
              "      <td>$69.99</td>\n",
              "    </tr>\n",
              "    <tr>\n",
              "      <th>18099</th>\n",
              "      <td>2021-07-31</td>\n",
              "      <td>100</td>\n",
              "      <td>2 Pack Surge Protector Power Strip with 6 Outl...</td>\n",
              "      <td>4.8</td>\n",
              "      <td>9,157</td>\n",
              "      <td>$30.99</td>\n",
              "    </tr>\n",
              "  </tbody>\n",
              "</table>\n",
              "<p>18100 rows × 6 columns</p>\n",
              "</div>\n",
              "    <div class=\"colab-df-buttons\">\n",
              "\n",
              "  <div class=\"colab-df-container\">\n",
              "    <button class=\"colab-df-convert\" onclick=\"convertToInteractive('df-9c1e4fe0-24e3-4555-91db-025a0f6f1cc6')\"\n",
              "            title=\"Convert this dataframe to an interactive table.\"\n",
              "            style=\"display:none;\">\n",
              "\n",
              "  <svg xmlns=\"http://www.w3.org/2000/svg\" height=\"24px\" viewBox=\"0 -960 960 960\">\n",
              "    <path d=\"M120-120v-720h720v720H120Zm60-500h600v-160H180v160Zm220 220h160v-160H400v160Zm0 220h160v-160H400v160ZM180-400h160v-160H180v160Zm440 0h160v-160H620v160ZM180-180h160v-160H180v160Zm440 0h160v-160H620v160Z\"/>\n",
              "  </svg>\n",
              "    </button>\n",
              "\n",
              "  <style>\n",
              "    .colab-df-container {\n",
              "      display:flex;\n",
              "      gap: 12px;\n",
              "    }\n",
              "\n",
              "    .colab-df-convert {\n",
              "      background-color: #E8F0FE;\n",
              "      border: none;\n",
              "      border-radius: 50%;\n",
              "      cursor: pointer;\n",
              "      display: none;\n",
              "      fill: #1967D2;\n",
              "      height: 32px;\n",
              "      padding: 0 0 0 0;\n",
              "      width: 32px;\n",
              "    }\n",
              "\n",
              "    .colab-df-convert:hover {\n",
              "      background-color: #E2EBFA;\n",
              "      box-shadow: 0px 1px 2px rgba(60, 64, 67, 0.3), 0px 1px 3px 1px rgba(60, 64, 67, 0.15);\n",
              "      fill: #174EA6;\n",
              "    }\n",
              "\n",
              "    .colab-df-buttons div {\n",
              "      margin-bottom: 4px;\n",
              "    }\n",
              "\n",
              "    [theme=dark] .colab-df-convert {\n",
              "      background-color: #3B4455;\n",
              "      fill: #D2E3FC;\n",
              "    }\n",
              "\n",
              "    [theme=dark] .colab-df-convert:hover {\n",
              "      background-color: #434B5C;\n",
              "      box-shadow: 0px 1px 3px 1px rgba(0, 0, 0, 0.15);\n",
              "      filter: drop-shadow(0px 1px 2px rgba(0, 0, 0, 0.3));\n",
              "      fill: #FFFFFF;\n",
              "    }\n",
              "  </style>\n",
              "\n",
              "    <script>\n",
              "      const buttonEl =\n",
              "        document.querySelector('#df-9c1e4fe0-24e3-4555-91db-025a0f6f1cc6 button.colab-df-convert');\n",
              "      buttonEl.style.display =\n",
              "        google.colab.kernel.accessAllowed ? 'block' : 'none';\n",
              "\n",
              "      async function convertToInteractive(key) {\n",
              "        const element = document.querySelector('#df-9c1e4fe0-24e3-4555-91db-025a0f6f1cc6');\n",
              "        const dataTable =\n",
              "          await google.colab.kernel.invokeFunction('convertToInteractive',\n",
              "                                                    [key], {});\n",
              "        if (!dataTable) return;\n",
              "\n",
              "        const docLinkHtml = 'Like what you see? Visit the ' +\n",
              "          '<a target=\"_blank\" href=https://colab.research.google.com/notebooks/data_table.ipynb>data table notebook</a>'\n",
              "          + ' to learn more about interactive tables.';\n",
              "        element.innerHTML = '';\n",
              "        dataTable['output_type'] = 'display_data';\n",
              "        await google.colab.output.renderOutput(dataTable, element);\n",
              "        const docLink = document.createElement('div');\n",
              "        docLink.innerHTML = docLinkHtml;\n",
              "        element.appendChild(docLink);\n",
              "      }\n",
              "    </script>\n",
              "  </div>\n",
              "\n",
              "\n",
              "<div id=\"df-6fbe6843-8687-42ee-94d8-861c5bf867d0\">\n",
              "  <button class=\"colab-df-quickchart\" onclick=\"quickchart('df-6fbe6843-8687-42ee-94d8-861c5bf867d0')\"\n",
              "            title=\"Suggest charts\"\n",
              "            style=\"display:none;\">\n",
              "\n",
              "<svg xmlns=\"http://www.w3.org/2000/svg\" height=\"24px\"viewBox=\"0 0 24 24\"\n",
              "     width=\"24px\">\n",
              "    <g>\n",
              "        <path d=\"M19 3H5c-1.1 0-2 .9-2 2v14c0 1.1.9 2 2 2h14c1.1 0 2-.9 2-2V5c0-1.1-.9-2-2-2zM9 17H7v-7h2v7zm4 0h-2V7h2v10zm4 0h-2v-4h2v4z\"/>\n",
              "    </g>\n",
              "</svg>\n",
              "  </button>\n",
              "\n",
              "<style>\n",
              "  .colab-df-quickchart {\n",
              "      --bg-color: #E8F0FE;\n",
              "      --fill-color: #1967D2;\n",
              "      --hover-bg-color: #E2EBFA;\n",
              "      --hover-fill-color: #174EA6;\n",
              "      --disabled-fill-color: #AAA;\n",
              "      --disabled-bg-color: #DDD;\n",
              "  }\n",
              "\n",
              "  [theme=dark] .colab-df-quickchart {\n",
              "      --bg-color: #3B4455;\n",
              "      --fill-color: #D2E3FC;\n",
              "      --hover-bg-color: #434B5C;\n",
              "      --hover-fill-color: #FFFFFF;\n",
              "      --disabled-bg-color: #3B4455;\n",
              "      --disabled-fill-color: #666;\n",
              "  }\n",
              "\n",
              "  .colab-df-quickchart {\n",
              "    background-color: var(--bg-color);\n",
              "    border: none;\n",
              "    border-radius: 50%;\n",
              "    cursor: pointer;\n",
              "    display: none;\n",
              "    fill: var(--fill-color);\n",
              "    height: 32px;\n",
              "    padding: 0;\n",
              "    width: 32px;\n",
              "  }\n",
              "\n",
              "  .colab-df-quickchart:hover {\n",
              "    background-color: var(--hover-bg-color);\n",
              "    box-shadow: 0 1px 2px rgba(60, 64, 67, 0.3), 0 1px 3px 1px rgba(60, 64, 67, 0.15);\n",
              "    fill: var(--button-hover-fill-color);\n",
              "  }\n",
              "\n",
              "  .colab-df-quickchart-complete:disabled,\n",
              "  .colab-df-quickchart-complete:disabled:hover {\n",
              "    background-color: var(--disabled-bg-color);\n",
              "    fill: var(--disabled-fill-color);\n",
              "    box-shadow: none;\n",
              "  }\n",
              "\n",
              "  .colab-df-spinner {\n",
              "    border: 2px solid var(--fill-color);\n",
              "    border-color: transparent;\n",
              "    border-bottom-color: var(--fill-color);\n",
              "    animation:\n",
              "      spin 1s steps(1) infinite;\n",
              "  }\n",
              "\n",
              "  @keyframes spin {\n",
              "    0% {\n",
              "      border-color: transparent;\n",
              "      border-bottom-color: var(--fill-color);\n",
              "      border-left-color: var(--fill-color);\n",
              "    }\n",
              "    20% {\n",
              "      border-color: transparent;\n",
              "      border-left-color: var(--fill-color);\n",
              "      border-top-color: var(--fill-color);\n",
              "    }\n",
              "    30% {\n",
              "      border-color: transparent;\n",
              "      border-left-color: var(--fill-color);\n",
              "      border-top-color: var(--fill-color);\n",
              "      border-right-color: var(--fill-color);\n",
              "    }\n",
              "    40% {\n",
              "      border-color: transparent;\n",
              "      border-right-color: var(--fill-color);\n",
              "      border-top-color: var(--fill-color);\n",
              "    }\n",
              "    60% {\n",
              "      border-color: transparent;\n",
              "      border-right-color: var(--fill-color);\n",
              "    }\n",
              "    80% {\n",
              "      border-color: transparent;\n",
              "      border-right-color: var(--fill-color);\n",
              "      border-bottom-color: var(--fill-color);\n",
              "    }\n",
              "    90% {\n",
              "      border-color: transparent;\n",
              "      border-bottom-color: var(--fill-color);\n",
              "    }\n",
              "  }\n",
              "</style>\n",
              "\n",
              "  <script>\n",
              "    async function quickchart(key) {\n",
              "      const quickchartButtonEl =\n",
              "        document.querySelector('#' + key + ' button');\n",
              "      quickchartButtonEl.disabled = true;  // To prevent multiple clicks.\n",
              "      quickchartButtonEl.classList.add('colab-df-spinner');\n",
              "      try {\n",
              "        const charts = await google.colab.kernel.invokeFunction(\n",
              "            'suggestCharts', [key], {});\n",
              "      } catch (error) {\n",
              "        console.error('Error during call to suggestCharts:', error);\n",
              "      }\n",
              "      quickchartButtonEl.classList.remove('colab-df-spinner');\n",
              "      quickchartButtonEl.classList.add('colab-df-quickchart-complete');\n",
              "    }\n",
              "    (() => {\n",
              "      let quickchartButtonEl =\n",
              "        document.querySelector('#df-6fbe6843-8687-42ee-94d8-861c5bf867d0 button');\n",
              "      quickchartButtonEl.style.display =\n",
              "        google.colab.kernel.accessAllowed ? 'block' : 'none';\n",
              "    })();\n",
              "  </script>\n",
              "</div>\n",
              "\n",
              "  <div id=\"id_39143ef3-1ff0-4f15-a12a-de55b0080436\">\n",
              "    <style>\n",
              "      .colab-df-generate {\n",
              "        background-color: #E8F0FE;\n",
              "        border: none;\n",
              "        border-radius: 50%;\n",
              "        cursor: pointer;\n",
              "        display: none;\n",
              "        fill: #1967D2;\n",
              "        height: 32px;\n",
              "        padding: 0 0 0 0;\n",
              "        width: 32px;\n",
              "      }\n",
              "\n",
              "      .colab-df-generate:hover {\n",
              "        background-color: #E2EBFA;\n",
              "        box-shadow: 0px 1px 2px rgba(60, 64, 67, 0.3), 0px 1px 3px 1px rgba(60, 64, 67, 0.15);\n",
              "        fill: #174EA6;\n",
              "      }\n",
              "\n",
              "      [theme=dark] .colab-df-generate {\n",
              "        background-color: #3B4455;\n",
              "        fill: #D2E3FC;\n",
              "      }\n",
              "\n",
              "      [theme=dark] .colab-df-generate:hover {\n",
              "        background-color: #434B5C;\n",
              "        box-shadow: 0px 1px 3px 1px rgba(0, 0, 0, 0.15);\n",
              "        filter: drop-shadow(0px 1px 2px rgba(0, 0, 0, 0.3));\n",
              "        fill: #FFFFFF;\n",
              "      }\n",
              "    </style>\n",
              "    <button class=\"colab-df-generate\" onclick=\"generateWithVariable('df')\"\n",
              "            title=\"Generate code using this dataframe.\"\n",
              "            style=\"display:none;\">\n",
              "\n",
              "  <svg xmlns=\"http://www.w3.org/2000/svg\" height=\"24px\"viewBox=\"0 0 24 24\"\n",
              "       width=\"24px\">\n",
              "    <path d=\"M7,19H8.4L18.45,9,17,7.55,7,17.6ZM5,21V16.75L18.45,3.32a2,2,0,0,1,2.83,0l1.4,1.43a1.91,1.91,0,0,1,.58,1.4,1.91,1.91,0,0,1-.58,1.4L9.25,21ZM18.45,9,17,7.55Zm-12,3A5.31,5.31,0,0,0,4.9,8.1,5.31,5.31,0,0,0,1,6.5,5.31,5.31,0,0,0,4.9,4.9,5.31,5.31,0,0,0,6.5,1,5.31,5.31,0,0,0,8.1,4.9,5.31,5.31,0,0,0,12,6.5,5.46,5.46,0,0,0,6.5,12Z\"/>\n",
              "  </svg>\n",
              "    </button>\n",
              "    <script>\n",
              "      (() => {\n",
              "      const buttonEl =\n",
              "        document.querySelector('#id_39143ef3-1ff0-4f15-a12a-de55b0080436 button.colab-df-generate');\n",
              "      buttonEl.style.display =\n",
              "        google.colab.kernel.accessAllowed ? 'block' : 'none';\n",
              "\n",
              "      buttonEl.onclick = () => {\n",
              "        google.colab.notebook.generateWithVariable('df');\n",
              "      }\n",
              "      })();\n",
              "    </script>\n",
              "  </div>\n",
              "\n",
              "    </div>\n",
              "  </div>\n"
            ]
          },
          "metadata": {},
          "execution_count": 4
        }
      ]
    },
    {
      "cell_type": "markdown",
      "source": [
        "We wanted to learn a little but about the dataset that we were working with. The data set is a table with 18,100 rows and 6 colums. The data set gives us a date at which this electronic product was given this number ranking, a number or the rank of sales on Amazon at that date, the product name, average customer rating, the number of reviews for each product, and the price."
      ],
      "metadata": {
        "id": "TuwWMTDIBl5H"
      }
    },
    {
      "cell_type": "code",
      "source": [
        "df.info()"
      ],
      "metadata": {
        "colab": {
          "base_uri": "https://localhost:8080/"
        },
        "id": "6ij9FTj668JP",
        "outputId": "6dd1be24-7af9-4d2e-ca76-872970ebc63d"
      },
      "execution_count": null,
      "outputs": [
        {
          "output_type": "stream",
          "name": "stdout",
          "text": [
            "<class 'pandas.core.frame.DataFrame'>\n",
            "RangeIndex: 18100 entries, 0 to 18099\n",
            "Data columns (total 6 columns):\n",
            " #   Column     Non-Null Count  Dtype  \n",
            "---  ------     --------------  -----  \n",
            " 0   date       18100 non-null  object \n",
            " 1   number     18100 non-null  int64  \n",
            " 2   name       18100 non-null  object \n",
            " 3   rating     17959 non-null  float64\n",
            " 4   n_reviews  17959 non-null  object \n",
            " 5   price      17947 non-null  object \n",
            "dtypes: float64(1), int64(1), object(4)\n",
            "memory usage: 848.6+ KB\n"
          ]
        }
      ]
    },
    {
      "cell_type": "code",
      "source": [
        "df.describe()"
      ],
      "metadata": {
        "colab": {
          "base_uri": "https://localhost:8080/",
          "height": 301
        },
        "id": "m_-_T-3_6-HX",
        "outputId": "6a236f39-743d-486a-fb68-5dc1a7eb31ac"
      },
      "execution_count": null,
      "outputs": [
        {
          "output_type": "execute_result",
          "data": {
            "text/plain": [
              "             number        rating\n",
              "count  18100.000000  17959.000000\n",
              "mean      50.500000      4.624355\n",
              "std       28.866867      0.185366\n",
              "min        1.000000      1.000000\n",
              "25%       25.750000      4.500000\n",
              "50%       50.500000      4.700000\n",
              "75%       75.250000      4.800000\n",
              "max      100.000000      5.000000"
            ],
            "text/html": [
              "\n",
              "  <div id=\"df-fb55c6c5-8fbc-4f7a-88b4-3ee360523127\" class=\"colab-df-container\">\n",
              "    <div>\n",
              "<style scoped>\n",
              "    .dataframe tbody tr th:only-of-type {\n",
              "        vertical-align: middle;\n",
              "    }\n",
              "\n",
              "    .dataframe tbody tr th {\n",
              "        vertical-align: top;\n",
              "    }\n",
              "\n",
              "    .dataframe thead th {\n",
              "        text-align: right;\n",
              "    }\n",
              "</style>\n",
              "<table border=\"1\" class=\"dataframe\">\n",
              "  <thead>\n",
              "    <tr style=\"text-align: right;\">\n",
              "      <th></th>\n",
              "      <th>number</th>\n",
              "      <th>rating</th>\n",
              "    </tr>\n",
              "  </thead>\n",
              "  <tbody>\n",
              "    <tr>\n",
              "      <th>count</th>\n",
              "      <td>18100.000000</td>\n",
              "      <td>17959.000000</td>\n",
              "    </tr>\n",
              "    <tr>\n",
              "      <th>mean</th>\n",
              "      <td>50.500000</td>\n",
              "      <td>4.624355</td>\n",
              "    </tr>\n",
              "    <tr>\n",
              "      <th>std</th>\n",
              "      <td>28.866867</td>\n",
              "      <td>0.185366</td>\n",
              "    </tr>\n",
              "    <tr>\n",
              "      <th>min</th>\n",
              "      <td>1.000000</td>\n",
              "      <td>1.000000</td>\n",
              "    </tr>\n",
              "    <tr>\n",
              "      <th>25%</th>\n",
              "      <td>25.750000</td>\n",
              "      <td>4.500000</td>\n",
              "    </tr>\n",
              "    <tr>\n",
              "      <th>50%</th>\n",
              "      <td>50.500000</td>\n",
              "      <td>4.700000</td>\n",
              "    </tr>\n",
              "    <tr>\n",
              "      <th>75%</th>\n",
              "      <td>75.250000</td>\n",
              "      <td>4.800000</td>\n",
              "    </tr>\n",
              "    <tr>\n",
              "      <th>max</th>\n",
              "      <td>100.000000</td>\n",
              "      <td>5.000000</td>\n",
              "    </tr>\n",
              "  </tbody>\n",
              "</table>\n",
              "</div>\n",
              "    <div class=\"colab-df-buttons\">\n",
              "\n",
              "  <div class=\"colab-df-container\">\n",
              "    <button class=\"colab-df-convert\" onclick=\"convertToInteractive('df-fb55c6c5-8fbc-4f7a-88b4-3ee360523127')\"\n",
              "            title=\"Convert this dataframe to an interactive table.\"\n",
              "            style=\"display:none;\">\n",
              "\n",
              "  <svg xmlns=\"http://www.w3.org/2000/svg\" height=\"24px\" viewBox=\"0 -960 960 960\">\n",
              "    <path d=\"M120-120v-720h720v720H120Zm60-500h600v-160H180v160Zm220 220h160v-160H400v160Zm0 220h160v-160H400v160ZM180-400h160v-160H180v160Zm440 0h160v-160H620v160ZM180-180h160v-160H180v160Zm440 0h160v-160H620v160Z\"/>\n",
              "  </svg>\n",
              "    </button>\n",
              "\n",
              "  <style>\n",
              "    .colab-df-container {\n",
              "      display:flex;\n",
              "      gap: 12px;\n",
              "    }\n",
              "\n",
              "    .colab-df-convert {\n",
              "      background-color: #E8F0FE;\n",
              "      border: none;\n",
              "      border-radius: 50%;\n",
              "      cursor: pointer;\n",
              "      display: none;\n",
              "      fill: #1967D2;\n",
              "      height: 32px;\n",
              "      padding: 0 0 0 0;\n",
              "      width: 32px;\n",
              "    }\n",
              "\n",
              "    .colab-df-convert:hover {\n",
              "      background-color: #E2EBFA;\n",
              "      box-shadow: 0px 1px 2px rgba(60, 64, 67, 0.3), 0px 1px 3px 1px rgba(60, 64, 67, 0.15);\n",
              "      fill: #174EA6;\n",
              "    }\n",
              "\n",
              "    .colab-df-buttons div {\n",
              "      margin-bottom: 4px;\n",
              "    }\n",
              "\n",
              "    [theme=dark] .colab-df-convert {\n",
              "      background-color: #3B4455;\n",
              "      fill: #D2E3FC;\n",
              "    }\n",
              "\n",
              "    [theme=dark] .colab-df-convert:hover {\n",
              "      background-color: #434B5C;\n",
              "      box-shadow: 0px 1px 3px 1px rgba(0, 0, 0, 0.15);\n",
              "      filter: drop-shadow(0px 1px 2px rgba(0, 0, 0, 0.3));\n",
              "      fill: #FFFFFF;\n",
              "    }\n",
              "  </style>\n",
              "\n",
              "    <script>\n",
              "      const buttonEl =\n",
              "        document.querySelector('#df-fb55c6c5-8fbc-4f7a-88b4-3ee360523127 button.colab-df-convert');\n",
              "      buttonEl.style.display =\n",
              "        google.colab.kernel.accessAllowed ? 'block' : 'none';\n",
              "\n",
              "      async function convertToInteractive(key) {\n",
              "        const element = document.querySelector('#df-fb55c6c5-8fbc-4f7a-88b4-3ee360523127');\n",
              "        const dataTable =\n",
              "          await google.colab.kernel.invokeFunction('convertToInteractive',\n",
              "                                                    [key], {});\n",
              "        if (!dataTable) return;\n",
              "\n",
              "        const docLinkHtml = 'Like what you see? Visit the ' +\n",
              "          '<a target=\"_blank\" href=https://colab.research.google.com/notebooks/data_table.ipynb>data table notebook</a>'\n",
              "          + ' to learn more about interactive tables.';\n",
              "        element.innerHTML = '';\n",
              "        dataTable['output_type'] = 'display_data';\n",
              "        await google.colab.output.renderOutput(dataTable, element);\n",
              "        const docLink = document.createElement('div');\n",
              "        docLink.innerHTML = docLinkHtml;\n",
              "        element.appendChild(docLink);\n",
              "      }\n",
              "    </script>\n",
              "  </div>\n",
              "\n",
              "\n",
              "<div id=\"df-4d9f1990-064b-40f6-8049-e4a87934ee3c\">\n",
              "  <button class=\"colab-df-quickchart\" onclick=\"quickchart('df-4d9f1990-064b-40f6-8049-e4a87934ee3c')\"\n",
              "            title=\"Suggest charts\"\n",
              "            style=\"display:none;\">\n",
              "\n",
              "<svg xmlns=\"http://www.w3.org/2000/svg\" height=\"24px\"viewBox=\"0 0 24 24\"\n",
              "     width=\"24px\">\n",
              "    <g>\n",
              "        <path d=\"M19 3H5c-1.1 0-2 .9-2 2v14c0 1.1.9 2 2 2h14c1.1 0 2-.9 2-2V5c0-1.1-.9-2-2-2zM9 17H7v-7h2v7zm4 0h-2V7h2v10zm4 0h-2v-4h2v4z\"/>\n",
              "    </g>\n",
              "</svg>\n",
              "  </button>\n",
              "\n",
              "<style>\n",
              "  .colab-df-quickchart {\n",
              "      --bg-color: #E8F0FE;\n",
              "      --fill-color: #1967D2;\n",
              "      --hover-bg-color: #E2EBFA;\n",
              "      --hover-fill-color: #174EA6;\n",
              "      --disabled-fill-color: #AAA;\n",
              "      --disabled-bg-color: #DDD;\n",
              "  }\n",
              "\n",
              "  [theme=dark] .colab-df-quickchart {\n",
              "      --bg-color: #3B4455;\n",
              "      --fill-color: #D2E3FC;\n",
              "      --hover-bg-color: #434B5C;\n",
              "      --hover-fill-color: #FFFFFF;\n",
              "      --disabled-bg-color: #3B4455;\n",
              "      --disabled-fill-color: #666;\n",
              "  }\n",
              "\n",
              "  .colab-df-quickchart {\n",
              "    background-color: var(--bg-color);\n",
              "    border: none;\n",
              "    border-radius: 50%;\n",
              "    cursor: pointer;\n",
              "    display: none;\n",
              "    fill: var(--fill-color);\n",
              "    height: 32px;\n",
              "    padding: 0;\n",
              "    width: 32px;\n",
              "  }\n",
              "\n",
              "  .colab-df-quickchart:hover {\n",
              "    background-color: var(--hover-bg-color);\n",
              "    box-shadow: 0 1px 2px rgba(60, 64, 67, 0.3), 0 1px 3px 1px rgba(60, 64, 67, 0.15);\n",
              "    fill: var(--button-hover-fill-color);\n",
              "  }\n",
              "\n",
              "  .colab-df-quickchart-complete:disabled,\n",
              "  .colab-df-quickchart-complete:disabled:hover {\n",
              "    background-color: var(--disabled-bg-color);\n",
              "    fill: var(--disabled-fill-color);\n",
              "    box-shadow: none;\n",
              "  }\n",
              "\n",
              "  .colab-df-spinner {\n",
              "    border: 2px solid var(--fill-color);\n",
              "    border-color: transparent;\n",
              "    border-bottom-color: var(--fill-color);\n",
              "    animation:\n",
              "      spin 1s steps(1) infinite;\n",
              "  }\n",
              "\n",
              "  @keyframes spin {\n",
              "    0% {\n",
              "      border-color: transparent;\n",
              "      border-bottom-color: var(--fill-color);\n",
              "      border-left-color: var(--fill-color);\n",
              "    }\n",
              "    20% {\n",
              "      border-color: transparent;\n",
              "      border-left-color: var(--fill-color);\n",
              "      border-top-color: var(--fill-color);\n",
              "    }\n",
              "    30% {\n",
              "      border-color: transparent;\n",
              "      border-left-color: var(--fill-color);\n",
              "      border-top-color: var(--fill-color);\n",
              "      border-right-color: var(--fill-color);\n",
              "    }\n",
              "    40% {\n",
              "      border-color: transparent;\n",
              "      border-right-color: var(--fill-color);\n",
              "      border-top-color: var(--fill-color);\n",
              "    }\n",
              "    60% {\n",
              "      border-color: transparent;\n",
              "      border-right-color: var(--fill-color);\n",
              "    }\n",
              "    80% {\n",
              "      border-color: transparent;\n",
              "      border-right-color: var(--fill-color);\n",
              "      border-bottom-color: var(--fill-color);\n",
              "    }\n",
              "    90% {\n",
              "      border-color: transparent;\n",
              "      border-bottom-color: var(--fill-color);\n",
              "    }\n",
              "  }\n",
              "</style>\n",
              "\n",
              "  <script>\n",
              "    async function quickchart(key) {\n",
              "      const quickchartButtonEl =\n",
              "        document.querySelector('#' + key + ' button');\n",
              "      quickchartButtonEl.disabled = true;  // To prevent multiple clicks.\n",
              "      quickchartButtonEl.classList.add('colab-df-spinner');\n",
              "      try {\n",
              "        const charts = await google.colab.kernel.invokeFunction(\n",
              "            'suggestCharts', [key], {});\n",
              "      } catch (error) {\n",
              "        console.error('Error during call to suggestCharts:', error);\n",
              "      }\n",
              "      quickchartButtonEl.classList.remove('colab-df-spinner');\n",
              "      quickchartButtonEl.classList.add('colab-df-quickchart-complete');\n",
              "    }\n",
              "    (() => {\n",
              "      let quickchartButtonEl =\n",
              "        document.querySelector('#df-4d9f1990-064b-40f6-8049-e4a87934ee3c button');\n",
              "      quickchartButtonEl.style.display =\n",
              "        google.colab.kernel.accessAllowed ? 'block' : 'none';\n",
              "    })();\n",
              "  </script>\n",
              "</div>\n",
              "\n",
              "    </div>\n",
              "  </div>\n"
            ]
          },
          "metadata": {},
          "execution_count": 6
        }
      ]
    },
    {
      "cell_type": "markdown",
      "source": [
        "Before we did any analysis of the data, we wanted to run the correlation function for the entire dataset. If there were a strongly positive or negative correlation between any of the columns, it would show here as a number close to either 1.0 or -1.0"
      ],
      "metadata": {
        "id": "X7TIPemz6Pvj"
      }
    },
    {
      "cell_type": "code",
      "source": [
        "df.corr()"
      ],
      "metadata": {
        "colab": {
          "base_uri": "https://localhost:8080/",
          "height": 167
        },
        "id": "tRg6E-zP6M1w",
        "outputId": "9480516d-5e0e-425c-9789-4051dbae1460"
      },
      "execution_count": null,
      "outputs": [
        {
          "output_type": "stream",
          "name": "stderr",
          "text": [
            "<ipython-input-7-2f6f6606aa2c>:1: FutureWarning: The default value of numeric_only in DataFrame.corr is deprecated. In a future version, it will default to False. Select only valid columns or specify the value of numeric_only to silence this warning.\n",
            "  df.corr()\n"
          ]
        },
        {
          "output_type": "execute_result",
          "data": {
            "text/plain": [
              "          number    rating\n",
              "number  1.000000 -0.114815\n",
              "rating -0.114815  1.000000"
            ],
            "text/html": [
              "\n",
              "  <div id=\"df-eb60aa57-fb3c-48d8-87dd-734a9244b2f5\" class=\"colab-df-container\">\n",
              "    <div>\n",
              "<style scoped>\n",
              "    .dataframe tbody tr th:only-of-type {\n",
              "        vertical-align: middle;\n",
              "    }\n",
              "\n",
              "    .dataframe tbody tr th {\n",
              "        vertical-align: top;\n",
              "    }\n",
              "\n",
              "    .dataframe thead th {\n",
              "        text-align: right;\n",
              "    }\n",
              "</style>\n",
              "<table border=\"1\" class=\"dataframe\">\n",
              "  <thead>\n",
              "    <tr style=\"text-align: right;\">\n",
              "      <th></th>\n",
              "      <th>number</th>\n",
              "      <th>rating</th>\n",
              "    </tr>\n",
              "  </thead>\n",
              "  <tbody>\n",
              "    <tr>\n",
              "      <th>number</th>\n",
              "      <td>1.000000</td>\n",
              "      <td>-0.114815</td>\n",
              "    </tr>\n",
              "    <tr>\n",
              "      <th>rating</th>\n",
              "      <td>-0.114815</td>\n",
              "      <td>1.000000</td>\n",
              "    </tr>\n",
              "  </tbody>\n",
              "</table>\n",
              "</div>\n",
              "    <div class=\"colab-df-buttons\">\n",
              "\n",
              "  <div class=\"colab-df-container\">\n",
              "    <button class=\"colab-df-convert\" onclick=\"convertToInteractive('df-eb60aa57-fb3c-48d8-87dd-734a9244b2f5')\"\n",
              "            title=\"Convert this dataframe to an interactive table.\"\n",
              "            style=\"display:none;\">\n",
              "\n",
              "  <svg xmlns=\"http://www.w3.org/2000/svg\" height=\"24px\" viewBox=\"0 -960 960 960\">\n",
              "    <path d=\"M120-120v-720h720v720H120Zm60-500h600v-160H180v160Zm220 220h160v-160H400v160Zm0 220h160v-160H400v160ZM180-400h160v-160H180v160Zm440 0h160v-160H620v160ZM180-180h160v-160H180v160Zm440 0h160v-160H620v160Z\"/>\n",
              "  </svg>\n",
              "    </button>\n",
              "\n",
              "  <style>\n",
              "    .colab-df-container {\n",
              "      display:flex;\n",
              "      gap: 12px;\n",
              "    }\n",
              "\n",
              "    .colab-df-convert {\n",
              "      background-color: #E8F0FE;\n",
              "      border: none;\n",
              "      border-radius: 50%;\n",
              "      cursor: pointer;\n",
              "      display: none;\n",
              "      fill: #1967D2;\n",
              "      height: 32px;\n",
              "      padding: 0 0 0 0;\n",
              "      width: 32px;\n",
              "    }\n",
              "\n",
              "    .colab-df-convert:hover {\n",
              "      background-color: #E2EBFA;\n",
              "      box-shadow: 0px 1px 2px rgba(60, 64, 67, 0.3), 0px 1px 3px 1px rgba(60, 64, 67, 0.15);\n",
              "      fill: #174EA6;\n",
              "    }\n",
              "\n",
              "    .colab-df-buttons div {\n",
              "      margin-bottom: 4px;\n",
              "    }\n",
              "\n",
              "    [theme=dark] .colab-df-convert {\n",
              "      background-color: #3B4455;\n",
              "      fill: #D2E3FC;\n",
              "    }\n",
              "\n",
              "    [theme=dark] .colab-df-convert:hover {\n",
              "      background-color: #434B5C;\n",
              "      box-shadow: 0px 1px 3px 1px rgba(0, 0, 0, 0.15);\n",
              "      filter: drop-shadow(0px 1px 2px rgba(0, 0, 0, 0.3));\n",
              "      fill: #FFFFFF;\n",
              "    }\n",
              "  </style>\n",
              "\n",
              "    <script>\n",
              "      const buttonEl =\n",
              "        document.querySelector('#df-eb60aa57-fb3c-48d8-87dd-734a9244b2f5 button.colab-df-convert');\n",
              "      buttonEl.style.display =\n",
              "        google.colab.kernel.accessAllowed ? 'block' : 'none';\n",
              "\n",
              "      async function convertToInteractive(key) {\n",
              "        const element = document.querySelector('#df-eb60aa57-fb3c-48d8-87dd-734a9244b2f5');\n",
              "        const dataTable =\n",
              "          await google.colab.kernel.invokeFunction('convertToInteractive',\n",
              "                                                    [key], {});\n",
              "        if (!dataTable) return;\n",
              "\n",
              "        const docLinkHtml = 'Like what you see? Visit the ' +\n",
              "          '<a target=\"_blank\" href=https://colab.research.google.com/notebooks/data_table.ipynb>data table notebook</a>'\n",
              "          + ' to learn more about interactive tables.';\n",
              "        element.innerHTML = '';\n",
              "        dataTable['output_type'] = 'display_data';\n",
              "        await google.colab.output.renderOutput(dataTable, element);\n",
              "        const docLink = document.createElement('div');\n",
              "        docLink.innerHTML = docLinkHtml;\n",
              "        element.appendChild(docLink);\n",
              "      }\n",
              "    </script>\n",
              "  </div>\n",
              "\n",
              "\n",
              "<div id=\"df-046cf25d-b9f6-4cf0-af70-5a75a4198e5e\">\n",
              "  <button class=\"colab-df-quickchart\" onclick=\"quickchart('df-046cf25d-b9f6-4cf0-af70-5a75a4198e5e')\"\n",
              "            title=\"Suggest charts\"\n",
              "            style=\"display:none;\">\n",
              "\n",
              "<svg xmlns=\"http://www.w3.org/2000/svg\" height=\"24px\"viewBox=\"0 0 24 24\"\n",
              "     width=\"24px\">\n",
              "    <g>\n",
              "        <path d=\"M19 3H5c-1.1 0-2 .9-2 2v14c0 1.1.9 2 2 2h14c1.1 0 2-.9 2-2V5c0-1.1-.9-2-2-2zM9 17H7v-7h2v7zm4 0h-2V7h2v10zm4 0h-2v-4h2v4z\"/>\n",
              "    </g>\n",
              "</svg>\n",
              "  </button>\n",
              "\n",
              "<style>\n",
              "  .colab-df-quickchart {\n",
              "      --bg-color: #E8F0FE;\n",
              "      --fill-color: #1967D2;\n",
              "      --hover-bg-color: #E2EBFA;\n",
              "      --hover-fill-color: #174EA6;\n",
              "      --disabled-fill-color: #AAA;\n",
              "      --disabled-bg-color: #DDD;\n",
              "  }\n",
              "\n",
              "  [theme=dark] .colab-df-quickchart {\n",
              "      --bg-color: #3B4455;\n",
              "      --fill-color: #D2E3FC;\n",
              "      --hover-bg-color: #434B5C;\n",
              "      --hover-fill-color: #FFFFFF;\n",
              "      --disabled-bg-color: #3B4455;\n",
              "      --disabled-fill-color: #666;\n",
              "  }\n",
              "\n",
              "  .colab-df-quickchart {\n",
              "    background-color: var(--bg-color);\n",
              "    border: none;\n",
              "    border-radius: 50%;\n",
              "    cursor: pointer;\n",
              "    display: none;\n",
              "    fill: var(--fill-color);\n",
              "    height: 32px;\n",
              "    padding: 0;\n",
              "    width: 32px;\n",
              "  }\n",
              "\n",
              "  .colab-df-quickchart:hover {\n",
              "    background-color: var(--hover-bg-color);\n",
              "    box-shadow: 0 1px 2px rgba(60, 64, 67, 0.3), 0 1px 3px 1px rgba(60, 64, 67, 0.15);\n",
              "    fill: var(--button-hover-fill-color);\n",
              "  }\n",
              "\n",
              "  .colab-df-quickchart-complete:disabled,\n",
              "  .colab-df-quickchart-complete:disabled:hover {\n",
              "    background-color: var(--disabled-bg-color);\n",
              "    fill: var(--disabled-fill-color);\n",
              "    box-shadow: none;\n",
              "  }\n",
              "\n",
              "  .colab-df-spinner {\n",
              "    border: 2px solid var(--fill-color);\n",
              "    border-color: transparent;\n",
              "    border-bottom-color: var(--fill-color);\n",
              "    animation:\n",
              "      spin 1s steps(1) infinite;\n",
              "  }\n",
              "\n",
              "  @keyframes spin {\n",
              "    0% {\n",
              "      border-color: transparent;\n",
              "      border-bottom-color: var(--fill-color);\n",
              "      border-left-color: var(--fill-color);\n",
              "    }\n",
              "    20% {\n",
              "      border-color: transparent;\n",
              "      border-left-color: var(--fill-color);\n",
              "      border-top-color: var(--fill-color);\n",
              "    }\n",
              "    30% {\n",
              "      border-color: transparent;\n",
              "      border-left-color: var(--fill-color);\n",
              "      border-top-color: var(--fill-color);\n",
              "      border-right-color: var(--fill-color);\n",
              "    }\n",
              "    40% {\n",
              "      border-color: transparent;\n",
              "      border-right-color: var(--fill-color);\n",
              "      border-top-color: var(--fill-color);\n",
              "    }\n",
              "    60% {\n",
              "      border-color: transparent;\n",
              "      border-right-color: var(--fill-color);\n",
              "    }\n",
              "    80% {\n",
              "      border-color: transparent;\n",
              "      border-right-color: var(--fill-color);\n",
              "      border-bottom-color: var(--fill-color);\n",
              "    }\n",
              "    90% {\n",
              "      border-color: transparent;\n",
              "      border-bottom-color: var(--fill-color);\n",
              "    }\n",
              "  }\n",
              "</style>\n",
              "\n",
              "  <script>\n",
              "    async function quickchart(key) {\n",
              "      const quickchartButtonEl =\n",
              "        document.querySelector('#' + key + ' button');\n",
              "      quickchartButtonEl.disabled = true;  // To prevent multiple clicks.\n",
              "      quickchartButtonEl.classList.add('colab-df-spinner');\n",
              "      try {\n",
              "        const charts = await google.colab.kernel.invokeFunction(\n",
              "            'suggestCharts', [key], {});\n",
              "      } catch (error) {\n",
              "        console.error('Error during call to suggestCharts:', error);\n",
              "      }\n",
              "      quickchartButtonEl.classList.remove('colab-df-spinner');\n",
              "      quickchartButtonEl.classList.add('colab-df-quickchart-complete');\n",
              "    }\n",
              "    (() => {\n",
              "      let quickchartButtonEl =\n",
              "        document.querySelector('#df-046cf25d-b9f6-4cf0-af70-5a75a4198e5e button');\n",
              "      quickchartButtonEl.style.display =\n",
              "        google.colab.kernel.accessAllowed ? 'block' : 'none';\n",
              "    })();\n",
              "  </script>\n",
              "</div>\n",
              "\n",
              "    </div>\n",
              "  </div>\n"
            ]
          },
          "metadata": {},
          "execution_count": 7
        }
      ]
    },
    {
      "cell_type": "markdown",
      "source": [
        "As we can see from the df.corr() function, there are unfortunately no strong correlations between any of the columns as a whole. This makes our job more difficult, as we cannot advise our client that changing the price or improving the ratings will be guaranteed to impact the sales. However, we can break the product ratings and price down using deeper analysis to see if there are any trends or numbers they should be shooting for, and also we are able to analyze which products have historically been the most popular and use the data to make inferences as to why."
      ],
      "metadata": {
        "id": "ksaF42g26nHf"
      }
    },
    {
      "cell_type": "markdown",
      "source": [
        "##*PRODUCT POPULARITY ANALYSIS*"
      ],
      "metadata": {
        "id": "RpsNaYNy0Swb"
      }
    },
    {
      "cell_type": "markdown",
      "source": [
        "Now it was time to start answering our questions. To begin, we wanted to find which electronics were the most popular to give our client an idea of what type of products they should be looking to manufacture. The widest scope of analysis we could do on this data was a value_counts function with all of the data included, to see which products appeared in the top 100 the most"
      ],
      "metadata": {
        "id": "SyrAh0Rr1XbW"
      }
    },
    {
      "cell_type": "code",
      "source": [
        "df['name'].value_counts()"
      ],
      "metadata": {
        "colab": {
          "base_uri": "https://localhost:8080/"
        },
        "id": "ElGeWaaH1lWC",
        "outputId": "fab4d3e2-2714-4a95-c6e1-35bd33c591d2"
      },
      "execution_count": null,
      "outputs": [
        {
          "output_type": "execute_result",
          "data": {
            "text/plain": [
              "Blink Mini – Compact indoor plug-in smart security camera, 1080 HD video, night vision, motion detection, two-way audio…    302\n",
              "Blink Outdoor - wireless, weather-resistant HD security camera, two-year battery life, motion detection, set up in…         255\n",
              "Kindle Paperwhite – Now Waterproof with 2x the Storage – Ad-Supported                                                       195\n",
              "Anker Power Strip with USB, 5 ft Extension Cord, PowerPort Cube USB with 3 Outlets and 3 USB Ports, Portable Design…        183\n",
              "Ring Stick Up Cam Battery HD security camera with custom privacy controls, Simple setup, Works with Alexa - Black           182\n",
              "                                                                                                                           ... \n",
              "All-New Insignia 55 inch NS-55F301NA22 F30 Series LED 4K UHD Smart Fire TV, Released 2021                                     1\n",
              "Power Strip with USB, TROND Surge Protector Flat Plug with 4 Widely-Spaced Outlets, 3 USB Charger, 1440 Joules, Wall…         1\n",
              "Video Camera Camcorder Digital Camera Recorder kicteck Full HD 1080P 15FPS 24MP 3.0 Inch 270 Degree Rotation LCD 16X…         1\n",
              "Pankoo 40X60 Monocular High Power Monocular Scope for Bird Watching Traveling Concert Sports Game with Phone Adapter…         1\n",
              "Juplink WiFi 6 Router- AX1800, Wi-Fi Router Easy Mesh, Dual Band Gigabit Router, OFDMA, 4X4MU-MIMO, Beamforming…              1\n",
              "Name: name, Length: 710, dtype: int64"
            ]
          },
          "metadata": {},
          "execution_count": 103
        }
      ]
    },
    {
      "cell_type": "markdown",
      "source": [
        "The Blink Mini and Blink Outdoor security cameras were by far the products that most often appeared in the top 100 rankings"
      ],
      "metadata": {
        "id": "Dm5Yelp71qy5"
      }
    },
    {
      "cell_type": "markdown",
      "source": [
        "Next, to dive deeper, we wanted to find which product was most frequently ranked the top selling item. To do this, we sliced for all of the products ranked 1 in 'number' on any given day"
      ],
      "metadata": {
        "id": "UAJsGDd_SH0B"
      }
    },
    {
      "cell_type": "code",
      "source": [
        "rankedfirst = df[df['number'] == 1]"
      ],
      "metadata": {
        "id": "IJMYq49jgfWc"
      },
      "execution_count": null,
      "outputs": []
    },
    {
      "cell_type": "markdown",
      "source": [
        "\n",
        "Here is how we found a list of the products that were the most often ranked #1 in the top 100:"
      ],
      "metadata": {
        "id": "Ap2QTS7zPL3A"
      }
    },
    {
      "cell_type": "code",
      "source": [
        "productrankings = rankedfirst['name'].value_counts()\n",
        "productrankings"
      ],
      "metadata": {
        "id": "7mNk-E1MPiYq",
        "colab": {
          "base_uri": "https://localhost:8080/"
        },
        "outputId": "db6c0359-06f5-4d1b-a6de-7f6848953a7b"
      },
      "execution_count": null,
      "outputs": [
        {
          "output_type": "execute_result",
          "data": {
            "text/plain": [
              "Fire TV Stick 4K streaming device with Alexa Voice Remote | Dolby Vision | 2018 release                                      113\n",
              "Fire TV Stick 4K streaming device with Alexa Voice Remote (includes TV controls) | Dolby Vision                               46\n",
              "Amazon Smart Plug, works with Alexa – A Certified for Humans Device                                                           11\n",
              "All-new Echo Dot (4th Gen, 2020 release) | Smart speaker with Alexa | Charcoal                                                 5\n",
              "Introducing Ring Video Doorbell Wired with Ring Chime                                                                          3\n",
              "Blink Mini – Compact indoor plug-in smart security camera, 1080 HD video, night vision, motion detection, two-way audio…       2\n",
              "Stilnend Telescope 70mm Aperture 500mm AZ Mount Astronomical Refractor Telescope for Kids Adults & Beginners Fully Multi…      1\n",
              "Name: name, dtype: int64"
            ]
          },
          "metadata": {},
          "execution_count": 105
        }
      ]
    },
    {
      "cell_type": "markdown",
      "source": [
        "We can use this data for a bar graph to show the client that the Amazon Fire Stick has dominated sales"
      ],
      "metadata": {
        "id": "U0Vj1FyP_zvG"
      }
    },
    {
      "cell_type": "markdown",
      "source": [
        "Used this source off of Google to find the barh function https://zebrabi.com/guide/how-to-customize-horizontal-bar-chart-in-python-matplotlib/#:~:text=To%20create%20a%20horizontal%20bar,the%20categories%20and%20the%20values.&text=Here%2C%20categories%20are%20the%20labels,numerical%20values%20for%20each%20category."
      ],
      "metadata": {
        "id": "pXNeLmrKAtN6"
      }
    },
    {
      "cell_type": "code",
      "source": [
        "plt.barh(productrankings.index, productrankings.values)\n",
        "\n",
        "plt.xlabel('Number of Occurrences')\n",
        "plt.ylabel('Products')\n",
        "plt.title('Number of Appearances at #1 by Each Electronic')\n",
        "\n",
        "plt.show()"
      ],
      "metadata": {
        "colab": {
          "base_uri": "https://localhost:8080/",
          "height": 472
        },
        "id": "at5vtzmA_IT_",
        "outputId": "0f44ae4c-bf46-4dd8-ec1f-17ffb1f11284"
      },
      "execution_count": null,
      "outputs": [
        {
          "output_type": "display_data",
          "data": {
            "text/plain": [
              "<Figure size 640x480 with 1 Axes>"
            ],
            "image/png": "[encoded data removed]"
          },
          "metadata": {}
        }
      ]
    },
    {
      "cell_type": "markdown",
      "source": [
        "By this list, we can see the rankings of the products that have been ranked #1 within the time the data was collected. The Fire TV Stick is by far the most highly ranked product, with two of its variations accounting for 159 of the first ranked products, with all other electronics sold on Amazon only reaching the number one spot a combined 22 times"
      ],
      "metadata": {
        "id": "N6N3WZqdjx9P"
      }
    },
    {
      "cell_type": "markdown",
      "source": [
        "We also wanted to repeat this same process, but with products in the top 5 to see if there would be any differences in the results"
      ],
      "metadata": {
        "id": "TIQQtYiputiQ"
      }
    },
    {
      "cell_type": "code",
      "source": [
        "rankedtopfive = df[df['number'].isin([1, 2, 3, 4, 5])]"
      ],
      "metadata": {
        "id": "bMfGWTXlusjm"
      },
      "execution_count": null,
      "outputs": []
    },
    {
      "cell_type": "code",
      "source": [
        "rankedtopfive['name'].value_counts()"
      ],
      "metadata": {
        "colab": {
          "base_uri": "https://localhost:8080/"
        },
        "id": "3Gu8NttevpZ-",
        "outputId": "11d43114-b405-4723-d020-539b16a101e3"
      },
      "execution_count": null,
      "outputs": [
        {
          "output_type": "execute_result",
          "data": {
            "text/plain": [
              "Fire TV Stick 4K streaming device with Alexa Voice Remote | Dolby Vision | 2018 release                                      133\n",
              "Amazon Smart Plug, works with Alexa – A Certified for Humans Device                                                          112\n",
              "Echo Dot (3rd Gen) - Smart speaker with Alexa - Charcoal                                                                     102\n",
              "Roku Express | HD Streaming Media Player with High Speed HDMI Cable and Simple Remote                                         92\n",
              "Roku Streaming Stick+ | HD/4K/HDR Streaming Device with Long-range Wireless and Voice Remote with TV Controls                 89\n",
              "All-new Echo Dot (4th Gen, 2020 release) | Smart speaker with Alexa | Charcoal                                                80\n",
              "Fire TV Stick 4K streaming device with Alexa Voice Remote (includes TV controls) | Dolby Vision                               48\n",
              "Fire 7 tablet (7\" display, 16 GB) - Black                                                                                     44\n",
              "New Apple AirTag                                                                                                              20\n",
              "Echo Show 5 -- Smart display with Alexa – stay connected with video calling - Charcoal                                        19\n",
              "All-new Echo Dot (4th Gen) | Smart speaker with clock and Alexa | Glacier White                                               16\n",
              "Wyze Cam v3 1080p HD Indoor/Outdoor Video Camera for Security, Pets, Baby Monitor, w/Color Night Vision, 2-Way Audio…         13\n",
              "Blink Mini – Compact indoor plug-in smart security camera, 1080 HD video, night vision, motion detection, two-way audio…      12\n",
              "Kindle Paperwhite – Now Waterproof with more than 2x the Storage – Ad-Supported + Kindle Unlimited (with auto-renewal)        12\n",
              "Wyze Cam Spotlight, Wyze Cam v3 Security Camera with Spotlight Kit, 1080p HD Security Camera with Two-Way Audio and…          11\n",
              "Echo Dot (4th Gen, 2020 release) | Smart speaker with Alexa | Charcoal                                                         7\n",
              "All-new Blink Outdoor – wireless, weather-resistant HD security camera with two-year battery life and motion detection…        7\n",
              "Fire 7 Kids Edition Tablet, 7\" Display, 16 GB, Blue Kid-Proof Case                                                             7\n",
              "Echo Auto- Hands-free Alexa in your car with your phone                                                                        6\n",
              "Roku Premiere | HD/4K/HDR Streaming Media Player, Simple Remote and Premium HDMI Cable                                         5\n",
              "Echo Dot (4th Gen) | Smart speaker with Alexa | Charcoal with Sengled Bluetooth Color bulb                                     4\n",
              "Binoculars 15x25, HD Professional/Waterproof Binoculars with Low Light Night Vision, Durable & Clear BAK4 Prism FMC Lens…      4\n",
              "Toshiba 32LF221U21 32-inch Smart HD 720p TV - Fire TV Edition, Released 2020                                                   4\n",
              "Wyze Cam v3 1080p HD Indoor/Outdoor Video Camera with Color Night Vision, 2-Way Audio, Works with Alexa & The Google…          3\n",
              "Power Strip , ALESTOR Surge Protector with 12 Outlets and 4 USB Ports, 6 Feet Extension Cord (1875W/15A) for for Home…         3\n",
              "Introducing Ring Video Doorbell Wired with Ring Chime                                                                          3\n",
              "Fire HD 8 tablet, 8\" HD display, 32 GB, designed for portable entertainment, Black                                             3\n",
              "USB Wall Charger, Surge Protector, QINLIANF 5 Outlet Extender with 4 USB Charging Ports ( 4.8A Total) 3-Sided 1680J…           3\n",
              "USB Wall Charger, Surge Protector, POWRUI 6-Outlet Extender with 2 USB Charging Ports (2.4A Total) and Night Light, 3…         3\n",
              "Fire HD 8 tablet, 8\" HD display, 32 GB, latest model (2020 release), designed for portable entertainment, Black                2\n",
              "Anykit Ear Wax Removal Tool, HD Otoscope for Android and PC-NOT for iPhone/iPad, Ultra Clear View Ear Camera with Wax…         2\n",
              "Toshiba 32LF221U21 32-inch Smart HD 720p TV - Fire TV, Released 2020                                                           2\n",
              "TP-Link WiFi 6 Router AX1800 Smart WiFi Router (Archer AX21) – Dual Band Gigabit Router, Works with Alexa - A Certified…       2\n",
              "Blink Outdoor - wireless, weather-resistant HD security camera, two-year battery life, motion detection, set up in…            2\n",
              "Telescope 70mm Aperture 500mm - for Kids & Adults Astronomical refracting Portable Telescopes AZ Mount Fully Multi…            2\n",
              "PalliPartners LCD Digital Microscope,7 inch 1X-1200X Magnification Zoom HD 1080P 12 Megapixels Compound 3000 mAh Battery…      2\n",
              "Binoculars 12x25, HD Professional/Waterproof Binoculars with Low Light Night Vision, Durable & Clear BAK4 Prism FMC Lens…      2\n",
              "Stilnend Telescope 70mm Aperture 500mm AZ Mount Astronomical Refractor Telescope for Kids Adults & Beginners Fully Multi…      2\n",
              "Binoculars for Adults 12 x 50 High Powered for HD Waterproof Zoom, Powerful Binoculars with Clear and Durable BAK-4…           2\n",
              "12X42 Binoculars for Adults and Kids with Harness Strap-OVIFM Small Night Vision Binoculars for Bird Watching,Powerful…        1\n",
              "Monocular Telescope,16x52 Monocular Dual Focus Optics Zoom Telescope, Day & Low Night Vision- [Upgrade] Waterproof…            1\n",
              "Ring Video Doorbell 2 (Used-Acceptable Condition), with HD Video, Motion Activated Alerts, Easy Installation                   1\n",
              "2020 Apple MacBook Air Laptop: Apple M1 Chip, 13” Retina Display, 8GB RAM, 256GB SSD Storage, Backlit Keyboard, FaceTime…      1\n",
              "Kindle Paperwhite – Now Waterproof with 2x the Storage – Ad-Supported                                                          1\n",
              "Wyze Cam v3 with Color Night Vision, Wired 1080p HD Indoor/Outdoor Video Camera, 2-Way Audio, Works with Alexa, Google…        1\n",
              "Wyze Cam Plus 3 Month Subscription                                                                                             1\n",
              "Fire 7 Kids Tablet, 7\" Display, ages 3-7, 16 GB, Blue Kid-Proof Case                                                           1\n",
              "Fujifilm Instax Mini Instant Film Twin Pack (White)                                                                            1\n",
              "All-new Echo Buds (2nd Gen) | Wireless earbuds with active noise cancellation and Alexa | Black                                1\n",
              "12x42 Powerful Binoculars for Adults with Clear Low Light Vision - Large View Eyepiece Binoculars for Birds Watching…          1\n",
              "Monocular Telescope,Newest12x50 High Definition,with Quick Smartphone Holder,Newest Waterproof Monocular,Day & Low Night…      1\n",
              "LCD Digital Microscope,4.3 Inch 1080P 10 Megapixels,1-1000X Magnification Zoom Wireless USB Stereo Microscope Camera…          1\n",
              "All-new Fire HD 10 tablet, 10.1\", 1080p Full HD, 32 GB, latest model (2021 release), Black                                     1\n",
              "SZRSTH 12x25 Binoculars, Adults Kids Compact Bird Watching Binocular with 17mm Eyepiece BaK4 Prism FMC Lenses…                 1\n",
              "All-new Echo Dot (4th Gen) | Smart speaker with Alexa | Twilight Blue                                                          1\n",
              "Echo Show 5 (1st Gen, 2019 release) -- Smart display with Alexa – stay connected with video calling - Charcoal                 1\n",
              "Mac Book Pro Charger, 100W USB C Charger Power Adapter Compatible MacBook Pro 16, 15, 13 Inch, MacBook Air 13 Inch, iPad…      1\n",
              "Ring Video Doorbell Wired bundle with Echo Dot (Gen 3) - Charcoal                                                              1\n",
              "USB Wall Charger Surge Protector 5 Outlet Extender with 4 USB Charging Ports ( 1 USB C Outlet) 3 Sided 1800J Power Strip…      1\n",
              "Name: name, dtype: int64"
            ]
          },
          "metadata": {},
          "execution_count": 108
        }
      ]
    },
    {
      "cell_type": "markdown",
      "source": [
        "This provides a lot more information, but the top few products are generally the same as the slice of the number one products, with the Fire TV stick in first once again"
      ],
      "metadata": {
        "id": "WIl4X1g8wEFp"
      }
    },
    {
      "cell_type": "markdown",
      "source": [
        "We also wanted to find out generally which types of products were making the list most frequently, and to do this we hypothesized that we could break the 'name' list or large strings into multiple smaller one word strings, and then take that list and search for the most commonly appearing words. We expected to find some unwanted repeating words that do not help our search, such as company names, but we figured that the process could still be valuable if it turns up some product types"
      ],
      "metadata": {
        "id": "ZljPIqtuDGRS"
      }
    },
    {
      "cell_type": "markdown",
      "source": [
        "Used chatGPT to help figure a good amount of this code out. https://chat.openai.com/share/49087020-955b-4abf-87e7-ac3ce4011eab"
      ],
      "metadata": {
        "id": "yFZSUBaqK5XZ"
      }
    },
    {
      "cell_type": "code",
      "source": [
        "wordsinname = df['name'].str.split()\n",
        "\n",
        "wordsinnamelist = [word for wordlist in wordsinname for word in wordlist]\n",
        "\n",
        "topwordhits = pd.Series(wordsinnamelist).value_counts()\n",
        "topwordhits"
      ],
      "metadata": {
        "colab": {
          "base_uri": "https://localhost:8080/"
        },
        "id": "14QkrN_UDvIo",
        "outputId": "a7a7e89f-9770-425c-fb40-dd415e8ccae2"
      },
      "execution_count": null,
      "outputs": [
        {
          "output_type": "execute_result",
          "data": {
            "text/plain": [
              "with            10687\n",
              "-                5693\n",
              "HD               4645\n",
              "and              4227\n",
              "|                3987\n",
              "                ...  \n",
              "Clamp               1\n",
              "Tie                 1\n",
              "Handle,             1\n",
              "Down                1\n",
              "Beamforming…        1\n",
              "Length: 2514, dtype: int64"
            ]
          },
          "metadata": {},
          "execution_count": 130
        }
      ]
    },
    {
      "cell_type": "markdown",
      "source": [
        "Unfortunately this search turned up mostly useless words, but there could be value if we expanded this new variable to see more of the top words that have turned up"
      ],
      "metadata": {
        "id": "RSx6Bi3PEiZj"
      }
    },
    {
      "cell_type": "code",
      "source": [
        "topwordhits.head(50)"
      ],
      "metadata": {
        "colab": {
          "base_uri": "https://localhost:8080/"
        },
        "id": "LA9WHn1kFMXQ",
        "outputId": "add1c556-5cd8-47a6-a169-336524f6dd82"
      },
      "execution_count": null,
      "outputs": [
        {
          "output_type": "execute_result",
          "data": {
            "text/plain": [
              "with         10687\n",
              "-             5693\n",
              "HD            4645\n",
              "and           4227\n",
              "|             3987\n",
              "for           3634\n",
              "USB           3484\n",
              "Power         3026\n",
              "Smart         3023\n",
              "Alexa         2908\n",
              "Cable         2613\n",
              "Fire          2242\n",
              "–             2202\n",
              "Black         2035\n",
              "TV            1935\n",
              "Surge         1896\n",
              "3             1843\n",
              "Camera        1783\n",
              "Cord          1744\n",
              "Echo          1631\n",
              "Mini          1567\n",
              "Extension     1547\n",
              "8             1376\n",
              "&             1353\n",
              "2             1316\n",
              "Strip         1301\n",
              "Apple         1297\n",
              "Cam           1287\n",
              "5             1267\n",
              "6             1238\n",
              "10            1225\n",
              "Roku          1206\n",
              "1080p         1198\n",
              "4             1146\n",
              "Bluetooth     1131\n",
              "Protector     1125\n",
              "Streaming     1109\n",
              "display,      1087\n",
              "GB,           1052\n",
              "Gen)          1034\n",
              "Outlets       1034\n",
              "Cord,         1011\n",
              "security       996\n",
              "Flat           975\n",
              "Dot            973\n",
              "Strip,         932\n",
              "Wireless       927\n",
              "32             919\n",
              "Pack           909\n",
              "speaker        909\n",
              "dtype: int64"
            ]
          },
          "metadata": {},
          "execution_count": 131
        }
      ]
    },
    {
      "cell_type": "markdown",
      "source": [
        "This gives us some good information to provide to the clients. TVs, Cameras, Extension cords, Cables, and Speakers are some of the most common devices to show up on this list. Some of the most common features that seem to be in well-performing electronic products are HD, Bluetooth, Smart devices, Streaming, and Wireless."
      ],
      "metadata": {
        "id": "3UaF6TpGFiVI"
      }
    },
    {
      "cell_type": "markdown",
      "source": [
        "##*PRODUCT PRICE ANALYSIS*"
      ],
      "metadata": {
        "id": "qhaf8ipS2s2e"
      }
    },
    {
      "cell_type": "markdown",
      "source": [
        "Our next question was,  what was the average cost?\n",
        "\n",
        "We did not only want to provide our client with ideas for what product they should be looking to manufacture, but also at which price point that would have the best chance of maximizing sales.\n",
        "\n",
        "Here is how we found the average cost:"
      ],
      "metadata": {
        "id": "uejNxI1IPlTt"
      }
    },
    {
      "cell_type": "markdown",
      "source": [
        "first we had to drop the NA values so the 'price' column can be an float value and not an object"
      ],
      "metadata": {
        "id": "88Q-EmwYlxXQ"
      }
    },
    {
      "cell_type": "code",
      "source": [
        "df[['price', 'n_reviews', 'rating']].dropna(inplace=True)"
      ],
      "metadata": {
        "colab": {
          "base_uri": "https://localhost:8080/"
        },
        "id": "TCtUexmDlweD",
        "outputId": "2099e446-8b39-4bdd-f192-7a05dc8c54d0"
      },
      "execution_count": null,
      "outputs": [
        {
          "output_type": "stream",
          "name": "stderr",
          "text": [
            "<ipython-input-9-b4890e300836>:1: SettingWithCopyWarning: \n",
            "A value is trying to be set on a copy of a slice from a DataFrame\n",
            "\n",
            "See the caveats in the documentation: https://pandas.pydata.org/pandas-docs/stable/user_guide/indexing.html#returning-a-view-versus-a-copy\n",
            "  df[['price', 'n_reviews', 'rating']].dropna(inplace=True)\n"
          ]
        }
      ]
    },
    {
      "cell_type": "markdown",
      "source": [
        "We then had to drop the $ in the price column so we could be able to do calculations on the column, and convert it to a float"
      ],
      "metadata": {
        "id": "rlelqrZQpxSg"
      }
    },
    {
      "cell_type": "markdown",
      "source": [
        "We had to use ChatGPT to find out how to remove the dollar sign. https://chat.openai.com/share/49087020-955b-4abf-87e7-ac3ce4011eab"
      ],
      "metadata": {
        "id": "KirCsnJUrZiF"
      }
    },
    {
      "cell_type": "code",
      "source": [
        "df['price'] = df['price'].replace('[\\$,]', '', regex=True).astype('float')"
      ],
      "metadata": {
        "id": "dPu5dRJnm76m"
      },
      "execution_count": null,
      "outputs": []
    },
    {
      "cell_type": "code",
      "source": [
        "df['price'].mean()\n"
      ],
      "metadata": {
        "id": "4bG59-obP-CD",
        "colab": {
          "base_uri": "https://localhost:8080/"
        },
        "outputId": "5609566f-f92e-48f6-e5ca-9ced796da174"
      },
      "execution_count": null,
      "outputs": [
        {
          "output_type": "execute_result",
          "data": {
            "text/plain": [
              "79.66110547723852"
            ]
          },
          "metadata": {},
          "execution_count": 114
        }
      ]
    },
    {
      "cell_type": "markdown",
      "source": [
        "This shows that the mean price for all of the products in the top 100 in this time frame was $79.66"
      ],
      "metadata": {
        "id": "H5zxCCOgsAPY"
      }
    },
    {
      "cell_type": "markdown",
      "source": [
        "We were wondering whether the top 5 ranked products would have a different mean than the rest of the top 100, so we used the slice that we had created a slice for this different set of products and found the mean price of this slice"
      ],
      "metadata": {
        "id": "7iEGDlnOsL9A"
      }
    },
    {
      "cell_type": "code",
      "source": [
        "rankedtopfive['price'] = rankedtopfive['price'].replace('[\\$,]', '', regex=True).astype('float')"
      ],
      "metadata": {
        "colab": {
          "base_uri": "https://localhost:8080/"
        },
        "id": "luwTwjsQ0FXZ",
        "outputId": "c5429871-b234-434f-cfb9-8ef78d982e21"
      },
      "execution_count": null,
      "outputs": [
        {
          "output_type": "stream",
          "name": "stderr",
          "text": [
            "<ipython-input-115-39d662c69442>:1: SettingWithCopyWarning: \n",
            "A value is trying to be set on a copy of a slice from a DataFrame.\n",
            "Try using .loc[row_indexer,col_indexer] = value instead\n",
            "\n",
            "See the caveats in the documentation: https://pandas.pydata.org/pandas-docs/stable/user_guide/indexing.html#returning-a-view-versus-a-copy\n",
            "  rankedtopfive['price'] = rankedtopfive['price'].replace('[\\$,]', '', regex=True).astype('float')\n"
          ]
        }
      ]
    },
    {
      "cell_type": "code",
      "source": [
        "rankedtopfive['price'].mean()"
      ],
      "metadata": {
        "colab": {
          "base_uri": "https://localhost:8080/"
        },
        "id": "EeU0jdDhwlI-",
        "outputId": "bf55140e-67cf-4976-d142-876b83ffd7ea"
      },
      "execution_count": null,
      "outputs": [
        {
          "output_type": "execute_result",
          "data": {
            "text/plain": [
              "40.573008849557525"
            ]
          },
          "metadata": {},
          "execution_count": 116
        }
      ]
    },
    {
      "cell_type": "markdown",
      "source": [
        "This shows that the average price for a top five ranked product was significantly lower than the average price for the entire dataframe. At an average of 40.57, the average price was 39.09 lower for these products in the upper echelon of the rankings"
      ],
      "metadata": {
        "id": "FArWB0vKwsVF"
      }
    },
    {
      "cell_type": "markdown",
      "source": [
        "Next, we wanted to find out what's the most expensive and least expensive item?\n",
        "\n",
        "Here is how we found the most expensive items:  "
      ],
      "metadata": {
        "id": "uzuNR6EyQPyg"
      }
    },
    {
      "cell_type": "code",
      "source": [
        "df.sort_values(by='price', ascending=False)"
      ],
      "metadata": {
        "id": "6Cu3VUzdQlzk",
        "colab": {
          "base_uri": "https://localhost:8080/",
          "height": 424
        },
        "outputId": "cbbc690d-16c3-46a4-f185-0c460f7ae6d5"
      },
      "execution_count": null,
      "outputs": [
        {
          "output_type": "execute_result",
          "data": {
            "text/plain": [
              "             date  number                                               name  \\\n",
              "3955   2021-03-12      56  Acer Predator Triton 500 PT515-52-73L3 Gaming ...   \n",
              "14996  2021-06-30      97  2020 Apple MacBook Pro with Apple M1 Chip (13-...   \n",
              "16299  2021-07-13     100  2020 Apple MacBook Pro with Apple M1 Chip (13-...   \n",
              "16247  2021-07-13      48  2021 Apple 12.9-inch iPad Pro (Wi‑Fi, 128GB) -...   \n",
              "11899  2021-05-30     100  2020 Apple MacBook Pro with Apple M1 Chip (13-...   \n",
              "...           ...     ...                                                ...   \n",
              "15093  2021-07-01      94  Fire TV Stick streaming media player with Alex...   \n",
              "15490  2021-07-05      91  Fire TV Stick streaming media player with Alex...   \n",
              "15684  2021-07-07      85  Fire TV Stick streaming media player with Alex...   \n",
              "15881  2021-07-09      82  Fire TV Stick streaming media player with Alex...   \n",
              "16331  2021-07-14      32  Cable Management Organizer Kit 183 PCS, Includ...   \n",
              "\n",
              "       rating n_reviews    price  \n",
              "3955      4.4       113  1625.00  \n",
              "14996     4.8     2,621  1289.00  \n",
              "16299     4.8     2,841  1284.94  \n",
              "16247     4.8       406  1099.99  \n",
              "11899     4.8     2,028  1011.99  \n",
              "...       ...       ...      ...  \n",
              "15093     4.7   458,404      NaN  \n",
              "15490     4.7   458,824      NaN  \n",
              "15684     4.7   459,032      NaN  \n",
              "15881     4.7   459,118      NaN  \n",
              "16331     4.4        73      NaN  \n",
              "\n",
              "[18100 rows x 6 columns]"
            ],
            "text/html": [
              "\n",
              "  <div id=\"df-5c35fe27-433d-4602-82e1-528820b31d97\" class=\"colab-df-container\">\n",
              "    <div>\n",
              "<style scoped>\n",
              "    .dataframe tbody tr th:only-of-type {\n",
              "        vertical-align: middle;\n",
              "    }\n",
              "\n",
              "    .dataframe tbody tr th {\n",
              "        vertical-align: top;\n",
              "    }\n",
              "\n",
              "    .dataframe thead th {\n",
              "        text-align: right;\n",
              "    }\n",
              "</style>\n",
              "<table border=\"1\" class=\"dataframe\">\n",
              "  <thead>\n",
              "    <tr style=\"text-align: right;\">\n",
              "      <th></th>\n",
              "      <th>date</th>\n",
              "      <th>number</th>\n",
              "      <th>name</th>\n",
              "      <th>rating</th>\n",
              "      <th>n_reviews</th>\n",
              "      <th>price</th>\n",
              "    </tr>\n",
              "  </thead>\n",
              "  <tbody>\n",
              "    <tr>\n",
              "      <th>3955</th>\n",
              "      <td>2021-03-12</td>\n",
              "      <td>56</td>\n",
              "      <td>Acer Predator Triton 500 PT515-52-73L3 Gaming ...</td>\n",
              "      <td>4.4</td>\n",
              "      <td>113</td>\n",
              "      <td>1625.00</td>\n",
              "    </tr>\n",
              "    <tr>\n",
              "      <th>14996</th>\n",
              "      <td>2021-06-30</td>\n",
              "      <td>97</td>\n",
              "      <td>2020 Apple MacBook Pro with Apple M1 Chip (13-...</td>\n",
              "      <td>4.8</td>\n",
              "      <td>2,621</td>\n",
              "      <td>1289.00</td>\n",
              "    </tr>\n",
              "    <tr>\n",
              "      <th>16299</th>\n",
              "      <td>2021-07-13</td>\n",
              "      <td>100</td>\n",
              "      <td>2020 Apple MacBook Pro with Apple M1 Chip (13-...</td>\n",
              "      <td>4.8</td>\n",
              "      <td>2,841</td>\n",
              "      <td>1284.94</td>\n",
              "    </tr>\n",
              "    <tr>\n",
              "      <th>16247</th>\n",
              "      <td>2021-07-13</td>\n",
              "      <td>48</td>\n",
              "      <td>2021 Apple 12.9-inch iPad Pro (Wi‑Fi, 128GB) -...</td>\n",
              "      <td>4.8</td>\n",
              "      <td>406</td>\n",
              "      <td>1099.99</td>\n",
              "    </tr>\n",
              "    <tr>\n",
              "      <th>11899</th>\n",
              "      <td>2021-05-30</td>\n",
              "      <td>100</td>\n",
              "      <td>2020 Apple MacBook Pro with Apple M1 Chip (13-...</td>\n",
              "      <td>4.8</td>\n",
              "      <td>2,028</td>\n",
              "      <td>1011.99</td>\n",
              "    </tr>\n",
              "    <tr>\n",
              "      <th>...</th>\n",
              "      <td>...</td>\n",
              "      <td>...</td>\n",
              "      <td>...</td>\n",
              "      <td>...</td>\n",
              "      <td>...</td>\n",
              "      <td>...</td>\n",
              "    </tr>\n",
              "    <tr>\n",
              "      <th>15093</th>\n",
              "      <td>2021-07-01</td>\n",
              "      <td>94</td>\n",
              "      <td>Fire TV Stick streaming media player with Alex...</td>\n",
              "      <td>4.7</td>\n",
              "      <td>458,404</td>\n",
              "      <td>NaN</td>\n",
              "    </tr>\n",
              "    <tr>\n",
              "      <th>15490</th>\n",
              "      <td>2021-07-05</td>\n",
              "      <td>91</td>\n",
              "      <td>Fire TV Stick streaming media player with Alex...</td>\n",
              "      <td>4.7</td>\n",
              "      <td>458,824</td>\n",
              "      <td>NaN</td>\n",
              "    </tr>\n",
              "    <tr>\n",
              "      <th>15684</th>\n",
              "      <td>2021-07-07</td>\n",
              "      <td>85</td>\n",
              "      <td>Fire TV Stick streaming media player with Alex...</td>\n",
              "      <td>4.7</td>\n",
              "      <td>459,032</td>\n",
              "      <td>NaN</td>\n",
              "    </tr>\n",
              "    <tr>\n",
              "      <th>15881</th>\n",
              "      <td>2021-07-09</td>\n",
              "      <td>82</td>\n",
              "      <td>Fire TV Stick streaming media player with Alex...</td>\n",
              "      <td>4.7</td>\n",
              "      <td>459,118</td>\n",
              "      <td>NaN</td>\n",
              "    </tr>\n",
              "    <tr>\n",
              "      <th>16331</th>\n",
              "      <td>2021-07-14</td>\n",
              "      <td>32</td>\n",
              "      <td>Cable Management Organizer Kit 183 PCS, Includ...</td>\n",
              "      <td>4.4</td>\n",
              "      <td>73</td>\n",
              "      <td>NaN</td>\n",
              "    </tr>\n",
              "  </tbody>\n",
              "</table>\n",
              "<p>18100 rows × 6 columns</p>\n",
              "</div>\n",
              "    <div class=\"colab-df-buttons\">\n",
              "\n",
              "  <div class=\"colab-df-container\">\n",
              "    <button class=\"colab-df-convert\" onclick=\"convertToInteractive('df-5c35fe27-433d-4602-82e1-528820b31d97')\"\n",
              "            title=\"Convert this dataframe to an interactive table.\"\n",
              "            style=\"display:none;\">\n",
              "\n",
              "  <svg xmlns=\"http://www.w3.org/2000/svg\" height=\"24px\" viewBox=\"0 -960 960 960\">\n",
              "    <path d=\"M120-120v-720h720v720H120Zm60-500h600v-160H180v160Zm220 220h160v-160H400v160Zm0 220h160v-160H400v160ZM180-400h160v-160H180v160Zm440 0h160v-160H620v160ZM180-180h160v-160H180v160Zm440 0h160v-160H620v160Z\"/>\n",
              "  </svg>\n",
              "    </button>\n",
              "\n",
              "  <style>\n",
              "    .colab-df-container {\n",
              "      display:flex;\n",
              "      gap: 12px;\n",
              "    }\n",
              "\n",
              "    .colab-df-convert {\n",
              "      background-color: #E8F0FE;\n",
              "      border: none;\n",
              "      border-radius: 50%;\n",
              "      cursor: pointer;\n",
              "      display: none;\n",
              "      fill: #1967D2;\n",
              "      height: 32px;\n",
              "      padding: 0 0 0 0;\n",
              "      width: 32px;\n",
              "    }\n",
              "\n",
              "    .colab-df-convert:hover {\n",
              "      background-color: #E2EBFA;\n",
              "      box-shadow: 0px 1px 2px rgba(60, 64, 67, 0.3), 0px 1px 3px 1px rgba(60, 64, 67, 0.15);\n",
              "      fill: #174EA6;\n",
              "    }\n",
              "\n",
              "    .colab-df-buttons div {\n",
              "      margin-bottom: 4px;\n",
              "    }\n",
              "\n",
              "    [theme=dark] .colab-df-convert {\n",
              "      background-color: #3B4455;\n",
              "      fill: #D2E3FC;\n",
              "    }\n",
              "\n",
              "    [theme=dark] .colab-df-convert:hover {\n",
              "      background-color: #434B5C;\n",
              "      box-shadow: 0px 1px 3px 1px rgba(0, 0, 0, 0.15);\n",
              "      filter: drop-shadow(0px 1px 2px rgba(0, 0, 0, 0.3));\n",
              "      fill: #FFFFFF;\n",
              "    }\n",
              "  </style>\n",
              "\n",
              "    <script>\n",
              "      const buttonEl =\n",
              "        document.querySelector('#df-5c35fe27-433d-4602-82e1-528820b31d97 button.colab-df-convert');\n",
              "      buttonEl.style.display =\n",
              "        google.colab.kernel.accessAllowed ? 'block' : 'none';\n",
              "\n",
              "      async function convertToInteractive(key) {\n",
              "        const element = document.querySelector('#df-5c35fe27-433d-4602-82e1-528820b31d97');\n",
              "        const dataTable =\n",
              "          await google.colab.kernel.invokeFunction('convertToInteractive',\n",
              "                                                    [key], {});\n",
              "        if (!dataTable) return;\n",
              "\n",
              "        const docLinkHtml = 'Like what you see? Visit the ' +\n",
              "          '<a target=\"_blank\" href=https://colab.research.google.com/notebooks/data_table.ipynb>data table notebook</a>'\n",
              "          + ' to learn more about interactive tables.';\n",
              "        element.innerHTML = '';\n",
              "        dataTable['output_type'] = 'display_data';\n",
              "        await google.colab.output.renderOutput(dataTable, element);\n",
              "        const docLink = document.createElement('div');\n",
              "        docLink.innerHTML = docLinkHtml;\n",
              "        element.appendChild(docLink);\n",
              "      }\n",
              "    </script>\n",
              "  </div>\n",
              "\n",
              "\n",
              "<div id=\"df-c2f12d95-5887-4da0-b735-8ba4d29216d0\">\n",
              "  <button class=\"colab-df-quickchart\" onclick=\"quickchart('df-c2f12d95-5887-4da0-b735-8ba4d29216d0')\"\n",
              "            title=\"Suggest charts\"\n",
              "            style=\"display:none;\">\n",
              "\n",
              "<svg xmlns=\"http://www.w3.org/2000/svg\" height=\"24px\"viewBox=\"0 0 24 24\"\n",
              "     width=\"24px\">\n",
              "    <g>\n",
              "        <path d=\"M19 3H5c-1.1 0-2 .9-2 2v14c0 1.1.9 2 2 2h14c1.1 0 2-.9 2-2V5c0-1.1-.9-2-2-2zM9 17H7v-7h2v7zm4 0h-2V7h2v10zm4 0h-2v-4h2v4z\"/>\n",
              "    </g>\n",
              "</svg>\n",
              "  </button>\n",
              "\n",
              "<style>\n",
              "  .colab-df-quickchart {\n",
              "      --bg-color: #E8F0FE;\n",
              "      --fill-color: #1967D2;\n",
              "      --hover-bg-color: #E2EBFA;\n",
              "      --hover-fill-color: #174EA6;\n",
              "      --disabled-fill-color: #AAA;\n",
              "      --disabled-bg-color: #DDD;\n",
              "  }\n",
              "\n",
              "  [theme=dark] .colab-df-quickchart {\n",
              "      --bg-color: #3B4455;\n",
              "      --fill-color: #D2E3FC;\n",
              "      --hover-bg-color: #434B5C;\n",
              "      --hover-fill-color: #FFFFFF;\n",
              "      --disabled-bg-color: #3B4455;\n",
              "      --disabled-fill-color: #666;\n",
              "  }\n",
              "\n",
              "  .colab-df-quickchart {\n",
              "    background-color: var(--bg-color);\n",
              "    border: none;\n",
              "    border-radius: 50%;\n",
              "    cursor: pointer;\n",
              "    display: none;\n",
              "    fill: var(--fill-color);\n",
              "    height: 32px;\n",
              "    padding: 0;\n",
              "    width: 32px;\n",
              "  }\n",
              "\n",
              "  .colab-df-quickchart:hover {\n",
              "    background-color: var(--hover-bg-color);\n",
              "    box-shadow: 0 1px 2px rgba(60, 64, 67, 0.3), 0 1px 3px 1px rgba(60, 64, 67, 0.15);\n",
              "    fill: var(--button-hover-fill-color);\n",
              "  }\n",
              "\n",
              "  .colab-df-quickchart-complete:disabled,\n",
              "  .colab-df-quickchart-complete:disabled:hover {\n",
              "    background-color: var(--disabled-bg-color);\n",
              "    fill: var(--disabled-fill-color);\n",
              "    box-shadow: none;\n",
              "  }\n",
              "\n",
              "  .colab-df-spinner {\n",
              "    border: 2px solid var(--fill-color);\n",
              "    border-color: transparent;\n",
              "    border-bottom-color: var(--fill-color);\n",
              "    animation:\n",
              "      spin 1s steps(1) infinite;\n",
              "  }\n",
              "\n",
              "  @keyframes spin {\n",
              "    0% {\n",
              "      border-color: transparent;\n",
              "      border-bottom-color: var(--fill-color);\n",
              "      border-left-color: var(--fill-color);\n",
              "    }\n",
              "    20% {\n",
              "      border-color: transparent;\n",
              "      border-left-color: var(--fill-color);\n",
              "      border-top-color: var(--fill-color);\n",
              "    }\n",
              "    30% {\n",
              "      border-color: transparent;\n",
              "      border-left-color: var(--fill-color);\n",
              "      border-top-color: var(--fill-color);\n",
              "      border-right-color: var(--fill-color);\n",
              "    }\n",
              "    40% {\n",
              "      border-color: transparent;\n",
              "      border-right-color: var(--fill-color);\n",
              "      border-top-color: var(--fill-color);\n",
              "    }\n",
              "    60% {\n",
              "      border-color: transparent;\n",
              "      border-right-color: var(--fill-color);\n",
              "    }\n",
              "    80% {\n",
              "      border-color: transparent;\n",
              "      border-right-color: var(--fill-color);\n",
              "      border-bottom-color: var(--fill-color);\n",
              "    }\n",
              "    90% {\n",
              "      border-color: transparent;\n",
              "      border-bottom-color: var(--fill-color);\n",
              "    }\n",
              "  }\n",
              "</style>\n",
              "\n",
              "  <script>\n",
              "    async function quickchart(key) {\n",
              "      const quickchartButtonEl =\n",
              "        document.querySelector('#' + key + ' button');\n",
              "      quickchartButtonEl.disabled = true;  // To prevent multiple clicks.\n",
              "      quickchartButtonEl.classList.add('colab-df-spinner');\n",
              "      try {\n",
              "        const charts = await google.colab.kernel.invokeFunction(\n",
              "            'suggestCharts', [key], {});\n",
              "      } catch (error) {\n",
              "        console.error('Error during call to suggestCharts:', error);\n",
              "      }\n",
              "      quickchartButtonEl.classList.remove('colab-df-spinner');\n",
              "      quickchartButtonEl.classList.add('colab-df-quickchart-complete');\n",
              "    }\n",
              "    (() => {\n",
              "      let quickchartButtonEl =\n",
              "        document.querySelector('#df-c2f12d95-5887-4da0-b735-8ba4d29216d0 button');\n",
              "      quickchartButtonEl.style.display =\n",
              "        google.colab.kernel.accessAllowed ? 'block' : 'none';\n",
              "    })();\n",
              "  </script>\n",
              "</div>\n",
              "\n",
              "    </div>\n",
              "  </div>\n"
            ]
          },
          "metadata": {},
          "execution_count": 12
        }
      ]
    },
    {
      "cell_type": "markdown",
      "source": [
        "Our results show that the Acer Predator Triton 500 gaming laptop was the most expensive product to crack the top 100 electronics, at $1625"
      ],
      "metadata": {
        "id": "7BwjJGXDxjV2"
      }
    },
    {
      "cell_type": "markdown",
      "source": [
        "Here is how we found the cheapest items:"
      ],
      "metadata": {
        "id": "9quL28rQRNy9"
      }
    },
    {
      "cell_type": "code",
      "source": [
        "df.sort_values(by='price', ascending=True)"
      ],
      "metadata": {
        "id": "mnus_96iRX99",
        "colab": {
          "base_uri": "https://localhost:8080/",
          "height": 424
        },
        "outputId": "d4ceaa4f-efcc-4ba3-f025-e4d0e8092a5c"
      },
      "execution_count": null,
      "outputs": [
        {
          "output_type": "execute_result",
          "data": {
            "text/plain": [
              "             date  number                                               name  \\\n",
              "12113  2021-06-02      14  Sabrent 4-Port USB 2.0 Hub with Individual LED...   \n",
              "2999   2021-03-02     100     Ring Spare Parts Kit for Floodlight Cam, Black   \n",
              "16479  2021-07-15      80  Ring Spare Parts Kit for Video Doorbell (2020 ...   \n",
              "17981  2021-07-30      82  Ring Spare Parts Kit for Video Doorbell (2020 ...   \n",
              "2386   2021-02-24      87     Ring Spare Parts Kit for Floodlight Cam, Black   \n",
              "...           ...     ...                                                ...   \n",
              "15093  2021-07-01      94  Fire TV Stick streaming media player with Alex...   \n",
              "15490  2021-07-05      91  Fire TV Stick streaming media player with Alex...   \n",
              "15684  2021-07-07      85  Fire TV Stick streaming media player with Alex...   \n",
              "15881  2021-07-09      82  Fire TV Stick streaming media player with Alex...   \n",
              "16331  2021-07-14      32  Cable Management Organizer Kit 183 PCS, Includ...   \n",
              "\n",
              "       rating n_reviews  price  \n",
              "12113     4.6    70,626   1.50  \n",
              "2999      4.7     1,617   1.99  \n",
              "16479     4.7     5,202   1.99  \n",
              "17981     4.8     5,734   1.99  \n",
              "2386      4.7     1,458   1.99  \n",
              "...       ...       ...    ...  \n",
              "15093     4.7   458,404    NaN  \n",
              "15490     4.7   458,824    NaN  \n",
              "15684     4.7   459,032    NaN  \n",
              "15881     4.7   459,118    NaN  \n",
              "16331     4.4        73    NaN  \n",
              "\n",
              "[18100 rows x 6 columns]"
            ],
            "text/html": [
              "\n",
              "  <div id=\"df-d86c5a6d-34c5-458b-a95d-490ba0616bd7\" class=\"colab-df-container\">\n",
              "    <div>\n",
              "<style scoped>\n",
              "    .dataframe tbody tr th:only-of-type {\n",
              "        vertical-align: middle;\n",
              "    }\n",
              "\n",
              "    .dataframe tbody tr th {\n",
              "        vertical-align: top;\n",
              "    }\n",
              "\n",
              "    .dataframe thead th {\n",
              "        text-align: right;\n",
              "    }\n",
              "</style>\n",
              "<table border=\"1\" class=\"dataframe\">\n",
              "  <thead>\n",
              "    <tr style=\"text-align: right;\">\n",
              "      <th></th>\n",
              "      <th>date</th>\n",
              "      <th>number</th>\n",
              "      <th>name</th>\n",
              "      <th>rating</th>\n",
              "      <th>n_reviews</th>\n",
              "      <th>price</th>\n",
              "    </tr>\n",
              "  </thead>\n",
              "  <tbody>\n",
              "    <tr>\n",
              "      <th>12113</th>\n",
              "      <td>2021-06-02</td>\n",
              "      <td>14</td>\n",
              "      <td>Sabrent 4-Port USB 2.0 Hub with Individual LED...</td>\n",
              "      <td>4.6</td>\n",
              "      <td>70,626</td>\n",
              "      <td>1.50</td>\n",
              "    </tr>\n",
              "    <tr>\n",
              "      <th>2999</th>\n",
              "      <td>2021-03-02</td>\n",
              "      <td>100</td>\n",
              "      <td>Ring Spare Parts Kit for Floodlight Cam, Black</td>\n",
              "      <td>4.7</td>\n",
              "      <td>1,617</td>\n",
              "      <td>1.99</td>\n",
              "    </tr>\n",
              "    <tr>\n",
              "      <th>16479</th>\n",
              "      <td>2021-07-15</td>\n",
              "      <td>80</td>\n",
              "      <td>Ring Spare Parts Kit for Video Doorbell (2020 ...</td>\n",
              "      <td>4.7</td>\n",
              "      <td>5,202</td>\n",
              "      <td>1.99</td>\n",
              "    </tr>\n",
              "    <tr>\n",
              "      <th>17981</th>\n",
              "      <td>2021-07-30</td>\n",
              "      <td>82</td>\n",
              "      <td>Ring Spare Parts Kit for Video Doorbell (2020 ...</td>\n",
              "      <td>4.8</td>\n",
              "      <td>5,734</td>\n",
              "      <td>1.99</td>\n",
              "    </tr>\n",
              "    <tr>\n",
              "      <th>2386</th>\n",
              "      <td>2021-02-24</td>\n",
              "      <td>87</td>\n",
              "      <td>Ring Spare Parts Kit for Floodlight Cam, Black</td>\n",
              "      <td>4.7</td>\n",
              "      <td>1,458</td>\n",
              "      <td>1.99</td>\n",
              "    </tr>\n",
              "    <tr>\n",
              "      <th>...</th>\n",
              "      <td>...</td>\n",
              "      <td>...</td>\n",
              "      <td>...</td>\n",
              "      <td>...</td>\n",
              "      <td>...</td>\n",
              "      <td>...</td>\n",
              "    </tr>\n",
              "    <tr>\n",
              "      <th>15093</th>\n",
              "      <td>2021-07-01</td>\n",
              "      <td>94</td>\n",
              "      <td>Fire TV Stick streaming media player with Alex...</td>\n",
              "      <td>4.7</td>\n",
              "      <td>458,404</td>\n",
              "      <td>NaN</td>\n",
              "    </tr>\n",
              "    <tr>\n",
              "      <th>15490</th>\n",
              "      <td>2021-07-05</td>\n",
              "      <td>91</td>\n",
              "      <td>Fire TV Stick streaming media player with Alex...</td>\n",
              "      <td>4.7</td>\n",
              "      <td>458,824</td>\n",
              "      <td>NaN</td>\n",
              "    </tr>\n",
              "    <tr>\n",
              "      <th>15684</th>\n",
              "      <td>2021-07-07</td>\n",
              "      <td>85</td>\n",
              "      <td>Fire TV Stick streaming media player with Alex...</td>\n",
              "      <td>4.7</td>\n",
              "      <td>459,032</td>\n",
              "      <td>NaN</td>\n",
              "    </tr>\n",
              "    <tr>\n",
              "      <th>15881</th>\n",
              "      <td>2021-07-09</td>\n",
              "      <td>82</td>\n",
              "      <td>Fire TV Stick streaming media player with Alex...</td>\n",
              "      <td>4.7</td>\n",
              "      <td>459,118</td>\n",
              "      <td>NaN</td>\n",
              "    </tr>\n",
              "    <tr>\n",
              "      <th>16331</th>\n",
              "      <td>2021-07-14</td>\n",
              "      <td>32</td>\n",
              "      <td>Cable Management Organizer Kit 183 PCS, Includ...</td>\n",
              "      <td>4.4</td>\n",
              "      <td>73</td>\n",
              "      <td>NaN</td>\n",
              "    </tr>\n",
              "  </tbody>\n",
              "</table>\n",
              "<p>18100 rows × 6 columns</p>\n",
              "</div>\n",
              "    <div class=\"colab-df-buttons\">\n",
              "\n",
              "  <div class=\"colab-df-container\">\n",
              "    <button class=\"colab-df-convert\" onclick=\"convertToInteractive('df-d86c5a6d-34c5-458b-a95d-490ba0616bd7')\"\n",
              "            title=\"Convert this dataframe to an interactive table.\"\n",
              "            style=\"display:none;\">\n",
              "\n",
              "  <svg xmlns=\"http://www.w3.org/2000/svg\" height=\"24px\" viewBox=\"0 -960 960 960\">\n",
              "    <path d=\"M120-120v-720h720v720H120Zm60-500h600v-160H180v160Zm220 220h160v-160H400v160Zm0 220h160v-160H400v160ZM180-400h160v-160H180v160Zm440 0h160v-160H620v160ZM180-180h160v-160H180v160Zm440 0h160v-160H620v160Z\"/>\n",
              "  </svg>\n",
              "    </button>\n",
              "\n",
              "  <style>\n",
              "    .colab-df-container {\n",
              "      display:flex;\n",
              "      gap: 12px;\n",
              "    }\n",
              "\n",
              "    .colab-df-convert {\n",
              "      background-color: #E8F0FE;\n",
              "      border: none;\n",
              "      border-radius: 50%;\n",
              "      cursor: pointer;\n",
              "      display: none;\n",
              "      fill: #1967D2;\n",
              "      height: 32px;\n",
              "      padding: 0 0 0 0;\n",
              "      width: 32px;\n",
              "    }\n",
              "\n",
              "    .colab-df-convert:hover {\n",
              "      background-color: #E2EBFA;\n",
              "      box-shadow: 0px 1px 2px rgba(60, 64, 67, 0.3), 0px 1px 3px 1px rgba(60, 64, 67, 0.15);\n",
              "      fill: #174EA6;\n",
              "    }\n",
              "\n",
              "    .colab-df-buttons div {\n",
              "      margin-bottom: 4px;\n",
              "    }\n",
              "\n",
              "    [theme=dark] .colab-df-convert {\n",
              "      background-color: #3B4455;\n",
              "      fill: #D2E3FC;\n",
              "    }\n",
              "\n",
              "    [theme=dark] .colab-df-convert:hover {\n",
              "      background-color: #434B5C;\n",
              "      box-shadow: 0px 1px 3px 1px rgba(0, 0, 0, 0.15);\n",
              "      filter: drop-shadow(0px 1px 2px rgba(0, 0, 0, 0.3));\n",
              "      fill: #FFFFFF;\n",
              "    }\n",
              "  </style>\n",
              "\n",
              "    <script>\n",
              "      const buttonEl =\n",
              "        document.querySelector('#df-d86c5a6d-34c5-458b-a95d-490ba0616bd7 button.colab-df-convert');\n",
              "      buttonEl.style.display =\n",
              "        google.colab.kernel.accessAllowed ? 'block' : 'none';\n",
              "\n",
              "      async function convertToInteractive(key) {\n",
              "        const element = document.querySelector('#df-d86c5a6d-34c5-458b-a95d-490ba0616bd7');\n",
              "        const dataTable =\n",
              "          await google.colab.kernel.invokeFunction('convertToInteractive',\n",
              "                                                    [key], {});\n",
              "        if (!dataTable) return;\n",
              "\n",
              "        const docLinkHtml = 'Like what you see? Visit the ' +\n",
              "          '<a target=\"_blank\" href=https://colab.research.google.com/notebooks/data_table.ipynb>data table notebook</a>'\n",
              "          + ' to learn more about interactive tables.';\n",
              "        element.innerHTML = '';\n",
              "        dataTable['output_type'] = 'display_data';\n",
              "        await google.colab.output.renderOutput(dataTable, element);\n",
              "        const docLink = document.createElement('div');\n",
              "        docLink.innerHTML = docLinkHtml;\n",
              "        element.appendChild(docLink);\n",
              "      }\n",
              "    </script>\n",
              "  </div>\n",
              "\n",
              "\n",
              "<div id=\"df-fbf70b3a-31be-4bfc-b590-937d161e6ddc\">\n",
              "  <button class=\"colab-df-quickchart\" onclick=\"quickchart('df-fbf70b3a-31be-4bfc-b590-937d161e6ddc')\"\n",
              "            title=\"Suggest charts\"\n",
              "            style=\"display:none;\">\n",
              "\n",
              "<svg xmlns=\"http://www.w3.org/2000/svg\" height=\"24px\"viewBox=\"0 0 24 24\"\n",
              "     width=\"24px\">\n",
              "    <g>\n",
              "        <path d=\"M19 3H5c-1.1 0-2 .9-2 2v14c0 1.1.9 2 2 2h14c1.1 0 2-.9 2-2V5c0-1.1-.9-2-2-2zM9 17H7v-7h2v7zm4 0h-2V7h2v10zm4 0h-2v-4h2v4z\"/>\n",
              "    </g>\n",
              "</svg>\n",
              "  </button>\n",
              "\n",
              "<style>\n",
              "  .colab-df-quickchart {\n",
              "      --bg-color: #E8F0FE;\n",
              "      --fill-color: #1967D2;\n",
              "      --hover-bg-color: #E2EBFA;\n",
              "      --hover-fill-color: #174EA6;\n",
              "      --disabled-fill-color: #AAA;\n",
              "      --disabled-bg-color: #DDD;\n",
              "  }\n",
              "\n",
              "  [theme=dark] .colab-df-quickchart {\n",
              "      --bg-color: #3B4455;\n",
              "      --fill-color: #D2E3FC;\n",
              "      --hover-bg-color: #434B5C;\n",
              "      --hover-fill-color: #FFFFFF;\n",
              "      --disabled-bg-color: #3B4455;\n",
              "      --disabled-fill-color: #666;\n",
              "  }\n",
              "\n",
              "  .colab-df-quickchart {\n",
              "    background-color: var(--bg-color);\n",
              "    border: none;\n",
              "    border-radius: 50%;\n",
              "    cursor: pointer;\n",
              "    display: none;\n",
              "    fill: var(--fill-color);\n",
              "    height: 32px;\n",
              "    padding: 0;\n",
              "    width: 32px;\n",
              "  }\n",
              "\n",
              "  .colab-df-quickchart:hover {\n",
              "    background-color: var(--hover-bg-color);\n",
              "    box-shadow: 0 1px 2px rgba(60, 64, 67, 0.3), 0 1px 3px 1px rgba(60, 64, 67, 0.15);\n",
              "    fill: var(--button-hover-fill-color);\n",
              "  }\n",
              "\n",
              "  .colab-df-quickchart-complete:disabled,\n",
              "  .colab-df-quickchart-complete:disabled:hover {\n",
              "    background-color: var(--disabled-bg-color);\n",
              "    fill: var(--disabled-fill-color);\n",
              "    box-shadow: none;\n",
              "  }\n",
              "\n",
              "  .colab-df-spinner {\n",
              "    border: 2px solid var(--fill-color);\n",
              "    border-color: transparent;\n",
              "    border-bottom-color: var(--fill-color);\n",
              "    animation:\n",
              "      spin 1s steps(1) infinite;\n",
              "  }\n",
              "\n",
              "  @keyframes spin {\n",
              "    0% {\n",
              "      border-color: transparent;\n",
              "      border-bottom-color: var(--fill-color);\n",
              "      border-left-color: var(--fill-color);\n",
              "    }\n",
              "    20% {\n",
              "      border-color: transparent;\n",
              "      border-left-color: var(--fill-color);\n",
              "      border-top-color: var(--fill-color);\n",
              "    }\n",
              "    30% {\n",
              "      border-color: transparent;\n",
              "      border-left-color: var(--fill-color);\n",
              "      border-top-color: var(--fill-color);\n",
              "      border-right-color: var(--fill-color);\n",
              "    }\n",
              "    40% {\n",
              "      border-color: transparent;\n",
              "      border-right-color: var(--fill-color);\n",
              "      border-top-color: var(--fill-color);\n",
              "    }\n",
              "    60% {\n",
              "      border-color: transparent;\n",
              "      border-right-color: var(--fill-color);\n",
              "    }\n",
              "    80% {\n",
              "      border-color: transparent;\n",
              "      border-right-color: var(--fill-color);\n",
              "      border-bottom-color: var(--fill-color);\n",
              "    }\n",
              "    90% {\n",
              "      border-color: transparent;\n",
              "      border-bottom-color: var(--fill-color);\n",
              "    }\n",
              "  }\n",
              "</style>\n",
              "\n",
              "  <script>\n",
              "    async function quickchart(key) {\n",
              "      const quickchartButtonEl =\n",
              "        document.querySelector('#' + key + ' button');\n",
              "      quickchartButtonEl.disabled = true;  // To prevent multiple clicks.\n",
              "      quickchartButtonEl.classList.add('colab-df-spinner');\n",
              "      try {\n",
              "        const charts = await google.colab.kernel.invokeFunction(\n",
              "            'suggestCharts', [key], {});\n",
              "      } catch (error) {\n",
              "        console.error('Error during call to suggestCharts:', error);\n",
              "      }\n",
              "      quickchartButtonEl.classList.remove('colab-df-spinner');\n",
              "      quickchartButtonEl.classList.add('colab-df-quickchart-complete');\n",
              "    }\n",
              "    (() => {\n",
              "      let quickchartButtonEl =\n",
              "        document.querySelector('#df-fbf70b3a-31be-4bfc-b590-937d161e6ddc button');\n",
              "      quickchartButtonEl.style.display =\n",
              "        google.colab.kernel.accessAllowed ? 'block' : 'none';\n",
              "    })();\n",
              "  </script>\n",
              "</div>\n",
              "    </div>\n",
              "  </div>\n"
            ]
          },
          "metadata": {},
          "execution_count": 118
        }
      ]
    },
    {
      "cell_type": "markdown",
      "source": [
        "Our results show that the Sabrent 4-Port USB 2.0 Hub was the least expensive product to crack the top 100 electronics, at $1.50"
      ],
      "metadata": {
        "id": "gu7qs6Rvx6MG"
      }
    },
    {
      "cell_type": "markdown",
      "source": [
        "These outliers show a wide range that a product can be priced at to make it into the top 100, with products appearing on the list with a price anywhere from 1.50 to 1625.00"
      ],
      "metadata": {
        "id": "ex3VLsUEyfMM"
      }
    },
    {
      "cell_type": "markdown",
      "source": [
        "We also could have used the .describe() function for some of these calculations, and it also shows us a number of other valuable statistics"
      ],
      "metadata": {
        "id": "VpuhMQYPN2Ea"
      }
    },
    {
      "cell_type": "code",
      "source": [
        "df.price.describe()"
      ],
      "metadata": {
        "colab": {
          "base_uri": "https://localhost:8080/"
        },
        "id": "eXeebWC3N1Lv",
        "outputId": "9cf47757-8dd6-4990-9a7a-778856df2e57"
      },
      "execution_count": null,
      "outputs": [
        {
          "output_type": "execute_result",
          "data": {
            "text/plain": [
              "count    17947.000000\n",
              "mean        79.661105\n",
              "std        101.162107\n",
              "min          1.500000\n",
              "25%         18.990000\n",
              "50%         39.590000\n",
              "75%         99.990000\n",
              "max       1625.000000\n",
              "Name: price, dtype: float64"
            ]
          },
          "metadata": {},
          "execution_count": 135
        }
      ]
    },
    {
      "cell_type": "markdown",
      "source": [
        "We have some crazy outliers in the data, such as 1.50 and 1625.00, but these statistics can show us where the large majority is. The 75% is at 99.99 and the 25% is at 18.99, and we would recommend that our client stay between those numbers"
      ],
      "metadata": {
        "id": "CPuRSNFwOH5Y"
      }
    },
    {
      "cell_type": "code",
      "source": [
        "plt.scatter(number, price, color='purple', marker='o')\n",
        "\n",
        "plt.xlabel('Number')\n",
        "plt.ylabel('Price')\n",
        "plt.title('Number vs Price')\n",
        "\n",
        "plt.show()"
      ],
      "metadata": {
        "colab": {
          "base_uri": "https://localhost:8080/",
          "height": 472
        },
        "id": "EzxdJH-tCHzs",
        "outputId": "04d44919-2020-4bcc-ecfd-391cd1267986"
      },
      "execution_count": null,
      "outputs": [
        {
          "output_type": "display_data",
          "data": {
            "text/plain": [
              "<Figure size 640x480 with 1 Axes>"
            ],
            "image/png": "[encoded data removed]"
          },
          "metadata": {}
        }
      ]
    },
    {
      "cell_type": "markdown",
      "source": [
        "This visualization shows that regardless of the number on the list, the prices of all of the products are generally pretty low."
      ],
      "metadata": {
        "id": "yncBRErnCa8d"
      }
    },
    {
      "cell_type": "markdown",
      "source": [
        "##*PRODUCT RATINGS ANALYSIS*"
      ],
      "metadata": {
        "id": "enxeJdM33GKY"
      }
    },
    {
      "cell_type": "markdown",
      "source": [
        "We have done analysis to find the most popular products, and the price points at which they sell. Now, we also want to look at the reviews for these products. It could be helpful for our clients to have a benchmark goal to strive for in their customer reviews to tell them whether they can achieve the top 100 list"
      ],
      "metadata": {
        "id": "49fTwHMJOgL2"
      }
    },
    {
      "cell_type": "markdown",
      "source": [
        "We first wanted to find the average product rating for all the products on the top 100."
      ],
      "metadata": {
        "id": "O9VRiHWARudz"
      }
    },
    {
      "cell_type": "code",
      "source": [
        "df['rating'].mean()"
      ],
      "metadata": {
        "colab": {
          "base_uri": "https://localhost:8080/"
        },
        "id": "zV2YOsTP4fhb",
        "outputId": "1c7a1e0b-94a0-48c0-9eb7-2bf37f1ce59f"
      },
      "execution_count": null,
      "outputs": [
        {
          "output_type": "execute_result",
          "data": {
            "text/plain": [
              "4.624355476362826"
            ]
          },
          "metadata": {},
          "execution_count": 119
        }
      ]
    },
    {
      "cell_type": "markdown",
      "source": [
        "The average rating was found to be 4.62 out of 5 for electronics in the top 100"
      ],
      "metadata": {
        "id": "fya2wTxz4qDL"
      }
    },
    {
      "cell_type": "markdown",
      "source": [
        "We again wanted to see if there would be a difference between the entire dataset, and the slice of products that had been ranked in the top 5"
      ],
      "metadata": {
        "id": "06RxkqXL4-em"
      }
    },
    {
      "cell_type": "code",
      "source": [
        "rankedtopfive['rating'].mean()"
      ],
      "metadata": {
        "colab": {
          "base_uri": "https://localhost:8080/"
        },
        "id": "4NQcidJc5KkB",
        "outputId": "27eec88b-15c2-4348-fb29-667d58d00263"
      },
      "execution_count": null,
      "outputs": [
        {
          "output_type": "execute_result",
          "data": {
            "text/plain": [
              "4.663636363636364"
            ]
          },
          "metadata": {},
          "execution_count": 120
        }
      ]
    },
    {
      "cell_type": "markdown",
      "source": [
        "The average rating for these products that were higher up on the list did increase, but surprisingly it was by a very incremental margin. The average rating was 4.66, only 0.04 higher than the overall average"
      ],
      "metadata": {
        "id": "FIjrYxbJ5P4k"
      }
    },
    {
      "cell_type": "markdown",
      "source": [
        "We decided it would be worthwhile to find the lowest rating as well, so we could give the client a low benchmark that they should not let their product fall below in ratings if they want to maintain a successful product"
      ],
      "metadata": {
        "id": "lJSkIEtpBOZ4"
      }
    },
    {
      "cell_type": "code",
      "source": [
        "df.sort_values(by='rating', ascending=True)"
      ],
      "metadata": {
        "colab": {
          "base_uri": "https://localhost:8080/",
          "height": 424
        },
        "id": "JwLIMEM7BNkl",
        "outputId": "6748a5aa-ba73-4f15-ddbe-72a91198b9eb"
      },
      "execution_count": null,
      "outputs": [
        {
          "output_type": "execute_result",
          "data": {
            "text/plain": [
              "             date  number                                               name  \\\n",
              "16404  2021-07-15       5                 Wyze Cam Plus 3 Month Subscription   \n",
              "11895  2021-05-30      96  Light^ning Connector Earbuds Earphone Wired He...   \n",
              "14949  2021-06-30      50  Hidden Spy Camera Wireless WiFi Hidden Camera ...   \n",
              "3850   2021-03-11      51  Wyze Cam v3 1080p HD IndWyze Cam v3 1080p HD I...   \n",
              "10933  2021-05-21      34  Webcam HD 1080p Web Camera, USB PC Computer We...   \n",
              "...           ...     ...                                                ...   \n",
              "17858  2021-07-29      59  Mini Spy Camera - 1080p Hidden Camera With Aud...   \n",
              "17929  2021-07-30      30  Mini Spy Camera - 1080p Hidden Camera With Aud...   \n",
              "17947  2021-07-30      48  Echo Dot (4th Gen) Limited Edition | Diane von...   \n",
              "18032  2021-07-31      33  Mini Spy Camera - 1080p Hidden Camera With Aud...   \n",
              "18044  2021-07-31      45  Echo Dot (4th Gen) Limited Edition | Diane von...   \n",
              "\n",
              "       rating n_reviews  price  \n",
              "16404     1.0         1   5.97  \n",
              "11895     1.7        26  14.95  \n",
              "14949     2.7       108  52.99  \n",
              "3850      3.0         4  29.98  \n",
              "10933     3.0         4  21.99  \n",
              "...       ...       ...    ...  \n",
              "17858     NaN       NaN  49.99  \n",
              "17929     NaN       NaN  49.99  \n",
              "17947     NaN       NaN  59.99  \n",
              "18032     NaN       NaN  49.99  \n",
              "18044     NaN       NaN  59.99  \n",
              "\n",
              "[18100 rows x 6 columns]"
            ],
            "text/html": [
              "\n",
              "  <div id=\"df-2726f481-e715-47b2-8c1e-89de46f4c2e9\" class=\"colab-df-container\">\n",
              "    <div>\n",
              "<style scoped>\n",
              "    .dataframe tbody tr th:only-of-type {\n",
              "        vertical-align: middle;\n",
              "    }\n",
              "\n",
              "    .dataframe tbody tr th {\n",
              "        vertical-align: top;\n",
              "    }\n",
              "\n",
              "    .dataframe thead th {\n",
              "        text-align: right;\n",
              "    }\n",
              "</style>\n",
              "<table border=\"1\" class=\"dataframe\">\n",
              "  <thead>\n",
              "    <tr style=\"text-align: right;\">\n",
              "      <th></th>\n",
              "      <th>date</th>\n",
              "      <th>number</th>\n",
              "      <th>name</th>\n",
              "      <th>rating</th>\n",
              "      <th>n_reviews</th>\n",
              "      <th>price</th>\n",
              "    </tr>\n",
              "  </thead>\n",
              "  <tbody>\n",
              "    <tr>\n",
              "      <th>16404</th>\n",
              "      <td>2021-07-15</td>\n",
              "      <td>5</td>\n",
              "      <td>Wyze Cam Plus 3 Month Subscription</td>\n",
              "      <td>1.0</td>\n",
              "      <td>1</td>\n",
              "      <td>5.97</td>\n",
              "    </tr>\n",
              "    <tr>\n",
              "      <th>11895</th>\n",
              "      <td>2021-05-30</td>\n",
              "      <td>96</td>\n",
              "      <td>Light^ning Connector Earbuds Earphone Wired He...</td>\n",
              "      <td>1.7</td>\n",
              "      <td>26</td>\n",
              "      <td>14.95</td>\n",
              "    </tr>\n",
              "    <tr>\n",
              "      <th>14949</th>\n",
              "      <td>2021-06-30</td>\n",
              "      <td>50</td>\n",
              "      <td>Hidden Spy Camera Wireless WiFi Hidden Camera ...</td>\n",
              "      <td>2.7</td>\n",
              "      <td>108</td>\n",
              "      <td>52.99</td>\n",
              "    </tr>\n",
              "    <tr>\n",
              "      <th>3850</th>\n",
              "      <td>2021-03-11</td>\n",
              "      <td>51</td>\n",
              "      <td>Wyze Cam v3 1080p HD IndWyze Cam v3 1080p HD I...</td>\n",
              "      <td>3.0</td>\n",
              "      <td>4</td>\n",
              "      <td>29.98</td>\n",
              "    </tr>\n",
              "    <tr>\n",
              "      <th>10933</th>\n",
              "      <td>2021-05-21</td>\n",
              "      <td>34</td>\n",
              "      <td>Webcam HD 1080p Web Camera, USB PC Computer We...</td>\n",
              "      <td>3.0</td>\n",
              "      <td>4</td>\n",
              "      <td>21.99</td>\n",
              "    </tr>\n",
              "    <tr>\n",
              "      <th>...</th>\n",
              "      <td>...</td>\n",
              "      <td>...</td>\n",
              "      <td>...</td>\n",
              "      <td>...</td>\n",
              "      <td>...</td>\n",
              "      <td>...</td>\n",
              "    </tr>\n",
              "    <tr>\n",
              "      <th>17858</th>\n",
              "      <td>2021-07-29</td>\n",
              "      <td>59</td>\n",
              "      <td>Mini Spy Camera - 1080p Hidden Camera With Aud...</td>\n",
              "      <td>NaN</td>\n",
              "      <td>NaN</td>\n",
              "      <td>49.99</td>\n",
              "    </tr>\n",
              "    <tr>\n",
              "      <th>17929</th>\n",
              "      <td>2021-07-30</td>\n",
              "      <td>30</td>\n",
              "      <td>Mini Spy Camera - 1080p Hidden Camera With Aud...</td>\n",
              "      <td>NaN</td>\n",
              "      <td>NaN</td>\n",
              "      <td>49.99</td>\n",
              "    </tr>\n",
              "    <tr>\n",
              "      <th>17947</th>\n",
              "      <td>2021-07-30</td>\n",
              "      <td>48</td>\n",
              "      <td>Echo Dot (4th Gen) Limited Edition | Diane von...</td>\n",
              "      <td>NaN</td>\n",
              "      <td>NaN</td>\n",
              "      <td>59.99</td>\n",
              "    </tr>\n",
              "    <tr>\n",
              "      <th>18032</th>\n",
              "      <td>2021-07-31</td>\n",
              "      <td>33</td>\n",
              "      <td>Mini Spy Camera - 1080p Hidden Camera With Aud...</td>\n",
              "      <td>NaN</td>\n",
              "      <td>NaN</td>\n",
              "      <td>49.99</td>\n",
              "    </tr>\n",
              "    <tr>\n",
              "      <th>18044</th>\n",
              "      <td>2021-07-31</td>\n",
              "      <td>45</td>\n",
              "      <td>Echo Dot (4th Gen) Limited Edition | Diane von...</td>\n",
              "      <td>NaN</td>\n",
              "      <td>NaN</td>\n",
              "      <td>59.99</td>\n",
              "    </tr>\n",
              "  </tbody>\n",
              "</table>\n",
              "<p>18100 rows × 6 columns</p>\n",
              "</div>\n",
              "    <div class=\"colab-df-buttons\">\n",
              "\n",
              "  <div class=\"colab-df-container\">\n",
              "    <button class=\"colab-df-convert\" onclick=\"convertToInteractive('df-2726f481-e715-47b2-8c1e-89de46f4c2e9')\"\n",
              "            title=\"Convert this dataframe to an interactive table.\"\n",
              "            style=\"display:none;\">\n",
              "\n",
              "  <svg xmlns=\"http://www.w3.org/2000/svg\" height=\"24px\" viewBox=\"0 -960 960 960\">\n",
              "    <path d=\"M120-120v-720h720v720H120Zm60-500h600v-160H180v160Zm220 220h160v-160H400v160Zm0 220h160v-160H400v160ZM180-400h160v-160H180v160Zm440 0h160v-160H620v160ZM180-180h160v-160H180v160Zm440 0h160v-160H620v160Z\"/>\n",
              "  </svg>\n",
              "    </button>\n",
              "\n",
              "  <style>\n",
              "    .colab-df-container {\n",
              "      display:flex;\n",
              "      gap: 12px;\n",
              "    }\n",
              "\n",
              "    .colab-df-convert {\n",
              "      background-color: #E8F0FE;\n",
              "      border: none;\n",
              "      border-radius: 50%;\n",
              "      cursor: pointer;\n",
              "      display: none;\n",
              "      fill: #1967D2;\n",
              "      height: 32px;\n",
              "      padding: 0 0 0 0;\n",
              "      width: 32px;\n",
              "    }\n",
              "\n",
              "    .colab-df-convert:hover {\n",
              "      background-color: #E2EBFA;\n",
              "      box-shadow: 0px 1px 2px rgba(60, 64, 67, 0.3), 0px 1px 3px 1px rgba(60, 64, 67, 0.15);\n",
              "      fill: #174EA6;\n",
              "    }\n",
              "\n",
              "    .colab-df-buttons div {\n",
              "      margin-bottom: 4px;\n",
              "    }\n",
              "\n",
              "    [theme=dark] .colab-df-convert {\n",
              "      background-color: #3B4455;\n",
              "      fill: #D2E3FC;\n",
              "    }\n",
              "\n",
              "    [theme=dark] .colab-df-convert:hover {\n",
              "      background-color: #434B5C;\n",
              "      box-shadow: 0px 1px 3px 1px rgba(0, 0, 0, 0.15);\n",
              "      filter: drop-shadow(0px 1px 2px rgba(0, 0, 0, 0.3));\n",
              "      fill: #FFFFFF;\n",
              "    }\n",
              "  </style>\n",
              "\n",
              "    <script>\n",
              "      const buttonEl =\n",
              "        document.querySelector('#df-2726f481-e715-47b2-8c1e-89de46f4c2e9 button.colab-df-convert');\n",
              "      buttonEl.style.display =\n",
              "        google.colab.kernel.accessAllowed ? 'block' : 'none';\n",
              "\n",
              "      async function convertToInteractive(key) {\n",
              "        const element = document.querySelector('#df-2726f481-e715-47b2-8c1e-89de46f4c2e9');\n",
              "        const dataTable =\n",
              "          await google.colab.kernel.invokeFunction('convertToInteractive',\n",
              "                                                    [key], {});\n",
              "        if (!dataTable) return;\n",
              "\n",
              "        const docLinkHtml = 'Like what you see? Visit the ' +\n",
              "          '<a target=\"_blank\" href=https://colab.research.google.com/notebooks/data_table.ipynb>data table notebook</a>'\n",
              "          + ' to learn more about interactive tables.';\n",
              "        element.innerHTML = '';\n",
              "        dataTable['output_type'] = 'display_data';\n",
              "        await google.colab.output.renderOutput(dataTable, element);\n",
              "        const docLink = document.createElement('div');\n",
              "        docLink.innerHTML = docLinkHtml;\n",
              "        element.appendChild(docLink);\n",
              "      }\n",
              "    </script>\n",
              "  </div>\n",
              "\n",
              "\n",
              "<div id=\"df-b5a56ab8-437e-46dc-886d-536950bcf5af\">\n",
              "  <button class=\"colab-df-quickchart\" onclick=\"quickchart('df-b5a56ab8-437e-46dc-886d-536950bcf5af')\"\n",
              "            title=\"Suggest charts\"\n",
              "            style=\"display:none;\">\n",
              "\n",
              "<svg xmlns=\"http://www.w3.org/2000/svg\" height=\"24px\"viewBox=\"0 0 24 24\"\n",
              "     width=\"24px\">\n",
              "    <g>\n",
              "        <path d=\"M19 3H5c-1.1 0-2 .9-2 2v14c0 1.1.9 2 2 2h14c1.1 0 2-.9 2-2V5c0-1.1-.9-2-2-2zM9 17H7v-7h2v7zm4 0h-2V7h2v10zm4 0h-2v-4h2v4z\"/>\n",
              "    </g>\n",
              "</svg>\n",
              "  </button>\n",
              "\n",
              "<style>\n",
              "  .colab-df-quickchart {\n",
              "      --bg-color: #E8F0FE;\n",
              "      --fill-color: #1967D2;\n",
              "      --hover-bg-color: #E2EBFA;\n",
              "      --hover-fill-color: #174EA6;\n",
              "      --disabled-fill-color: #AAA;\n",
              "      --disabled-bg-color: #DDD;\n",
              "  }\n",
              "\n",
              "  [theme=dark] .colab-df-quickchart {\n",
              "      --bg-color: #3B4455;\n",
              "      --fill-color: #D2E3FC;\n",
              "      --hover-bg-color: #434B5C;\n",
              "      --hover-fill-color: #FFFFFF;\n",
              "      --disabled-bg-color: #3B4455;\n",
              "      --disabled-fill-color: #666;\n",
              "  }\n",
              "\n",
              "  .colab-df-quickchart {\n",
              "    background-color: var(--bg-color);\n",
              "    border: none;\n",
              "    border-radius: 50%;\n",
              "    cursor: pointer;\n",
              "    display: none;\n",
              "    fill: var(--fill-color);\n",
              "    height: 32px;\n",
              "    padding: 0;\n",
              "    width: 32px;\n",
              "  }\n",
              "\n",
              "  .colab-df-quickchart:hover {\n",
              "    background-color: var(--hover-bg-color);\n",
              "    box-shadow: 0 1px 2px rgba(60, 64, 67, 0.3), 0 1px 3px 1px rgba(60, 64, 67, 0.15);\n",
              "    fill: var(--button-hover-fill-color);\n",
              "  }\n",
              "\n",
              "  .colab-df-quickchart-complete:disabled,\n",
              "  .colab-df-quickchart-complete:disabled:hover {\n",
              "    background-color: var(--disabled-bg-color);\n",
              "    fill: var(--disabled-fill-color);\n",
              "    box-shadow: none;\n",
              "  }\n",
              "\n",
              "  .colab-df-spinner {\n",
              "    border: 2px solid var(--fill-color);\n",
              "    border-color: transparent;\n",
              "    border-bottom-color: var(--fill-color);\n",
              "    animation:\n",
              "      spin 1s steps(1) infinite;\n",
              "  }\n",
              "\n",
              "  @keyframes spin {\n",
              "    0% {\n",
              "      border-color: transparent;\n",
              "      border-bottom-color: var(--fill-color);\n",
              "      border-left-color: var(--fill-color);\n",
              "    }\n",
              "    20% {\n",
              "      border-color: transparent;\n",
              "      border-left-color: var(--fill-color);\n",
              "      border-top-color: var(--fill-color);\n",
              "    }\n",
              "    30% {\n",
              "      border-color: transparent;\n",
              "      border-left-color: var(--fill-color);\n",
              "      border-top-color: var(--fill-color);\n",
              "      border-right-color: var(--fill-color);\n",
              "    }\n",
              "    40% {\n",
              "      border-color: transparent;\n",
              "      border-right-color: var(--fill-color);\n",
              "      border-top-color: var(--fill-color);\n",
              "    }\n",
              "    60% {\n",
              "      border-color: transparent;\n",
              "      border-right-color: var(--fill-color);\n",
              "    }\n",
              "    80% {\n",
              "      border-color: transparent;\n",
              "      border-right-color: var(--fill-color);\n",
              "      border-bottom-color: var(--fill-color);\n",
              "    }\n",
              "    90% {\n",
              "      border-color: transparent;\n",
              "      border-bottom-color: var(--fill-color);\n",
              "    }\n",
              "  }\n",
              "</style>\n",
              "\n",
              "  <script>\n",
              "    async function quickchart(key) {\n",
              "      const quickchartButtonEl =\n",
              "        document.querySelector('#' + key + ' button');\n",
              "      quickchartButtonEl.disabled = true;  // To prevent multiple clicks.\n",
              "      quickchartButtonEl.classList.add('colab-df-spinner');\n",
              "      try {\n",
              "        const charts = await google.colab.kernel.invokeFunction(\n",
              "            'suggestCharts', [key], {});\n",
              "      } catch (error) {\n",
              "        console.error('Error during call to suggestCharts:', error);\n",
              "      }\n",
              "      quickchartButtonEl.classList.remove('colab-df-spinner');\n",
              "      quickchartButtonEl.classList.add('colab-df-quickchart-complete');\n",
              "    }\n",
              "    (() => {\n",
              "      let quickchartButtonEl =\n",
              "        document.querySelector('#df-b5a56ab8-437e-46dc-886d-536950bcf5af button');\n",
              "      quickchartButtonEl.style.display =\n",
              "        google.colab.kernel.accessAllowed ? 'block' : 'none';\n",
              "    })();\n",
              "  </script>\n",
              "</div>\n",
              "    </div>\n",
              "  </div>\n"
            ]
          },
          "metadata": {},
          "execution_count": 121
        }
      ]
    },
    {
      "cell_type": "markdown",
      "source": [
        "We can see from this that remarkably it is possible to break Amazon's top 100 electronics list with a 1.0 rating. However, this is likely an anoymaly, as there is only one rating. The product was ranked at #5 with a 1.0 rating from one user, so it is reasonable to assume it was a new product. The next product on the list had a larger sample size with a 1.7 rating in 26 reviews. Despite the possibility of making the list with these low ratings, out of all 18,100 products, there are only 3 products that have made this list with a rating under 3.0, so we advise our client to keep their product rated over 3.0"
      ],
      "metadata": {
        "id": "E95vJQMNBxSV"
      }
    },
    {
      "cell_type": "code",
      "source": [
        "price = df.price\n",
        "rating = df.rating\n",
        "number = df.number"
      ],
      "metadata": {
        "id": "p8tqRhBZ6sqv"
      },
      "execution_count": null,
      "outputs": []
    },
    {
      "cell_type": "code",
      "source": [
        "plt.scatter(rating, price, color='red', marker='o')\n",
        "\n",
        "plt.xlabel('Rating')\n",
        "plt.ylabel('Price')\n",
        "plt.title('Rating vs Price')\n",
        "\n",
        "plt.show()"
      ],
      "metadata": {
        "colab": {
          "base_uri": "https://localhost:8080/",
          "height": 472
        },
        "id": "eqxTOSsP5VcX",
        "outputId": "0f4a800c-d6fb-4280-e798-206f5d7e7fdd"
      },
      "execution_count": null,
      "outputs": [
        {
          "output_type": "display_data",
          "data": {
            "text/plain": [
              "<Figure size 640x480 with 1 Axes>"
            ],
            "image/png": "[encoded data removed]"
          },
          "metadata": {}
        }
      ]
    },
    {
      "cell_type": "markdown",
      "source": [
        "Here is a visualization to show that the majority of data points are priced lower and have higher ratings"
      ],
      "metadata": {
        "id": "CFtO_kSL8Ds_"
      }
    },
    {
      "cell_type": "code",
      "source": [
        "plt.scatter(number, rating, color='pink', marker='^')\n",
        "\n",
        "plt.xlabel('Number')\n",
        "plt.ylabel('Rating')\n",
        "plt.title('Number vs Rating')\n",
        "\n",
        "plt.show()"
      ],
      "metadata": {
        "colab": {
          "base_uri": "https://localhost:8080/",
          "height": 472
        },
        "id": "DYBTNUAU8qTJ",
        "outputId": "1fd36d9b-89e2-4d37-b4c0-d68791b0f391"
      },
      "execution_count": null,
      "outputs": [
        {
          "output_type": "display_data",
          "data": {
            "text/plain": [
              "<Figure size 640x480 with 1 Axes>"
            ],
            "image/png": "[encoded data removed]"
          },
          "metadata": {}
        }
      ]
    },
    {
      "cell_type": "markdown",
      "source": [
        "This visualization shows that throughout the list, regardless of what number the products are on the list, the ratings are generally between 4.0 and 5.0"
      ],
      "metadata": {
        "id": "n-F7rKo--OA1"
      }
    },
    {
      "cell_type": "markdown",
      "source": [
        "##***Findings, Interpretations, and Recommendations***"
      ],
      "metadata": {
        "id": "k-gSbC2smE4r"
      }
    },
    {
      "cell_type": "markdown",
      "source": [
        "After analyzing the top 100 electronics products on Amazon, we found a lot of information that can guide Smart Home Systems Inc..\n",
        "\n",
        "Here is what we found and what we recommend to our clients:\n",
        "\n",
        "We first needed to answer our primary business question, \"What is the optimal product to make for Smart Home Systems Inc. to sell on Amazon, and what should the price be?\"\n",
        "\n",
        "Our answer to this question is that Smart Home Systems Inc. should manufacture a universal TV remote.\n",
        "\n",
        "The Amazon Fire Stick and Roku Universal Remote were two of the most popular products. This shows that streaming devices and accessories for TVs are super popular, which helps our clients. This suggests that manufacturing a product that is compatible with the Fire Stick TV Stick and Roku streaming devices could enhance our chances of breaking into the top 100. We believe that this would make a universal remote a great product, as anything that consumers would purchase with these two products would have the potential to make a lot of sales. Some of the most common words that were in the products were related to Voice assistance and Digital, so we would advise our clients to implement this into the remote to differentiate themselves and convince people to purchase their product instead of the other TV remotes that appear on the top 100 list.\n",
        "\n",
        "We also wanted to advise them on price. The average price of all products in the top 100 was 79.66. However, the top 5 ranked products had an average price of 40.57. This trend shows that lower prices actually give a product more chance to be competitive on the sales rankings. We would advise our clients to try and sell their products below the average price of the top 5 ranked products at the 30 - 35 dollar range to remain competitive and set themselves apart from the other TV remotes on the market.\n",
        "\n",
        "Almost all of the products in the top 100 had a high average rating. The average product rating for the top 100 was 4.62 stars out of 5. Products in the top 5 had an average rating of 4.66. It is possible to break the list with a product that has an averae ranking anywhere over 3.0, but these lower rated products on the list are outliers that tend to be kicked off the list in a shorter time period. We would recommend that our client makes a quality product that can maintain a rating from 4.5 - 4.7 to remain on the top 100 list and stay competitive. Another recommendation for our client is that they give incentives like a discount on their other products for leaving a rating on Amazon.\n",
        "\n"
      ],
      "metadata": {
        "id": "nLiBwHXgUnd8"
      }
    },
    {
      "cell_type": "markdown",
      "source": [
        "##***Biggest Challenges and What We Could've Done Differently***"
      ],
      "metadata": {
        "id": "DioocVS3YuP1"
      }
    },
    {
      "cell_type": "markdown",
      "source": [
        "After completing this project, we agreed that our biggest challenges were finding what portions of our project to visualize. We felt that we had a good amount of analysis done on the dataset to make valuable recommendations for our client, but that sometimes it was hard how to conceptualize how to show that in a graph or a plot.\n",
        "\n",
        "If we could go back in time and complete this project again we would have done more research into how we can effectively visualize our recommendatins in an effective way to get our point across to the client. We pushed the project back a bit and the time crunch made it difficult to put enough time in to effectively overcome this problem, so in hindsight we definitely should have started earlier."
      ],
      "metadata": {
        "id": "XcR95s5hY4ly"
      }
    },
    {
      "cell_type": "markdown",
      "source": [
        "#**Summary and Conclusions**"
      ],
      "metadata": {
        "id": "Uq-EVMltmRc1"
      }
    },
    {
      "cell_type": "markdown",
      "source": [
        "In conclusion, our report was made to help Smart Home Systems Inc., a tech startup that wants to sell a new electronic product on Amazon. Our analysis focused on answering key questions on product popularity, average cost, and average ratings for the 100 most popular electronic items on Amazon. After answering our questions we were able to recommend Smart Home Systems Inc. on the best course of action.\n",
        "\n",
        "Our final recommendation was that Smart Home Systems Inc. produce a smart remote that would be compatible with the Amazon Fire Stick and Roku Products. We recommend that they price it in the 30 - 35 dollar range, equip it with voice assistance capabilities, and make sure it is of high enough quality to maintain reviews between 4.5 - 4.7. Based on all of our analysis, this product would have an extremely high likelihood of achieving a spot in the top 100 and maintaining that spot for a long period of time."
      ],
      "metadata": {
        "id": "pbySo_1dYZa1"
      }
    },
    {
      "cell_type": "markdown",
      "source": [
        "#**Bibliography**"
      ],
      "metadata": {
        "id": "sO1FkDU6mXr3"
      }
    },
    {
      "cell_type": "markdown",
      "source": [
        "https://ecommercedb.com/ranking/stores/ww/consumer-electronics?page=1&pagesize=50&specialist=all&currency=USD\n",
        "\n",
        "https://chat.openai.com/share/49087020-955b-4abf-87e7-ac3ce4011eab\n",
        "\n",
        "https://zebrabi.com/guide/how-to-customize-horizontal-bar-chart-in-python-matplotlib/#:~:text=To%20create%20a%20horizontal%20bar,the%20categories%20and%20the%20values.&text=Here%2C%20categories%20are%20the%20labels,numerical%20values%20for%20each%20category.\n",
        "\n"
      ],
      "metadata": {
        "id": "LayRpRReuykI"
      }
    },
    {
      "cell_type": "markdown",
      "source": [
        "#**Appendices**"
      ],
      "metadata": {
        "id": "aHgXygN8mbia"
      }
    },
    {
      "cell_type": "markdown",
      "source": [
        "https://www.kaggle.com/datasets/annpastushko/amazon-top-100-best-sellers-in-electronics-2021"
      ],
      "metadata": {
        "id": "L7BnQ1vdWcxR"
      }
    }
  ]
}